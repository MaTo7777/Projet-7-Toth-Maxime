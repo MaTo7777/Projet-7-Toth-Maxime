{
 "cells": [
  {
   "cell_type": "markdown",
   "metadata": {
    "id": "NoRZZStegeKe",
    "pycharm": {
     "name": "#%% md\n"
    }
   },
   "source": [
    "# Librairies et réglages"
   ]
  },
  {
   "cell_type": "code",
   "execution_count": null,
   "outputs": [],
   "source": [
    "import pandas as pd\n",
    "import numpy as np\n",
    "\n",
    "import joblib\n",
    "\n",
    "# Visualisation\n",
    "import matplotlib.pyplot as plt\n",
    "import seaborn as sns\n",
    "\n",
    "import os\n",
    "\n",
    "# Preprocessing\n",
    "import sklearn\n",
    "from sklearn.model_selection import train_test_split\n",
    "from sklearn.preprocessing import LabelEncoder, MinMaxScaler, PolynomialFeatures\n",
    "from sklearn.decomposition import PCA\n",
    "from sklearn.impute import SimpleImputer\n",
    "\n",
    "# Modélisation\n",
    "from sklearn.linear_model import LogisticRegression\n",
    "from sklearn.metrics import confusion_matrix\n",
    "from sklearn.metrics import accuracy_score, precision_score, recall_score, f1_score\n",
    "from sklearn.model_selection import GridSearchCV\n",
    "\n",
    "# Over-sampling / Under-sampling\n",
    "import imblearn\n",
    "from imblearn.under_sampling  import RandomUnderSampler\n",
    "from collections import Counter\n",
    "\n",
    "# Ne pas afficher les warnings\n",
    "import warnings\n",
    "warnings.filterwarnings(\"ignore\")\n",
    "\n",
    "# Options graphiques\n",
    "sns.set(rc={'figure.figsize':(16,16)})\n",
    "pd.options.display.max_columns = 150\n",
    "sns.set_style('darkgrid')\n",
    "sns.set_context(\"notebook\", \n",
    "                font_scale=1.5, \n",
    "                rc={\"lines.linewidth\": 2.5})\n",
    "plt.style.use('ggplot')"
   ],
   "metadata": {
    "collapsed": false,
    "pycharm": {
     "name": "#%%\n"
    }
   }
  },
  {
   "cell_type": "markdown",
   "source": [
    "# Fonctions"
   ],
   "metadata": {
    "collapsed": false,
    "pycharm": {
     "name": "#%% md\n"
    }
   }
  },
  {
   "cell_type": "code",
   "execution_count": null,
   "outputs": [],
   "source": [
    "# Fonction permettant de visualiser la quantité de données manquantes\n",
    "\n",
    "def missing_data(data):\n",
    "    total = data.isnull().sum().sort_values(ascending = False)\n",
    "    percent = (data.isnull().sum()/data.isnull().count()*100).sort_values(ascending = False)\n",
    "    return pd.concat([total, percent], axis=1, keys=['Total', 'Percent'])"
   ],
   "metadata": {
    "collapsed": false,
    "pycharm": {
     "name": "#%%\n"
    }
   }
  },
  {
   "cell_type": "code",
   "execution_count": null,
   "outputs": [],
   "source": [
    "# Fonction permettant de visualiser la répartition pour une catégorie selon la target (0 ou 1)\n",
    "\n",
    "def plot_stats(feature,label_rotation=False,horizontal_layout=True):\n",
    "    temp = app_train[feature].value_counts()\n",
    "    df1 = pd.DataFrame({feature: temp.index,'Nombre de contrats': temp.values})\n",
    "\n",
    "    # Calcule le pourcentage que la target=1 pour la catégorie en question\n",
    "    cat_perc = app_train[[feature, 'TARGET']].groupby([feature],as_index=False).mean()\n",
    "    cat_perc.sort_values(by='TARGET', ascending=False, inplace=True)\n",
    "    \n",
    "    if(horizontal_layout):\n",
    "        fig, (ax1, ax2) = plt.subplots(ncols=2, figsize=(12,6))\n",
    "    else:\n",
    "        fig, (ax1, ax2) = plt.subplots(nrows=2, figsize=(12,14))\n",
    "    sns.set_color_codes(\"pastel\")\n",
    "    s = sns.barplot(ax=ax1, x = feature, y=\"Nombre de contrats\",data=df1)\n",
    "    if(label_rotation):\n",
    "        s.set_xticklabels(s.get_xticklabels(),rotation=90)\n",
    "    \n",
    "    s = sns.barplot(ax=ax2, x = feature, y='TARGET', order=cat_perc[feature], data=cat_perc)\n",
    "    if(label_rotation):\n",
    "        s.set_xticklabels(s.get_xticklabels(),rotation=90)\n",
    "    plt.ylabel('Pourcentage de target avec valeur 1 [%]', fontsize=10)\n",
    "    plt.tick_params(axis='both', which='major', labelsize=10)\n",
    "\n",
    "    plt.show();"
   ],
   "metadata": {
    "collapsed": false,
    "pycharm": {
     "name": "#%%\n"
    }
   }
  },
  {
   "cell_type": "code",
   "execution_count": null,
   "outputs": [],
   "source": [
    "# Fonction permettant de visualiser la distribution d'une feature\n",
    "def plot_distribution(feature,color):\n",
    "    plt.figure(figsize=(10,6))\n",
    "    plt.title(\"Distribution de %s\" % feature)\n",
    "    sns.distplot(app_train[feature].dropna(),color=color, kde=True,bins=100)\n",
    "    plt.show()   "
   ],
   "metadata": {
    "collapsed": false,
    "pycharm": {
     "name": "#%%\n"
    }
   }
  },
  {
   "cell_type": "code",
   "execution_count": null,
   "outputs": [],
   "source": [
    "# Fonction permettant de visualiser la distribution de plusieurs features\n",
    "def plot_distribution_comp(var,nrow=2):\n",
    "    \n",
    "    i = 0\n",
    "    t1 = app_train.loc[app_train['TARGET'] != 0]\n",
    "    t0 = app_train.loc[app_train['TARGET'] == 0]\n",
    "\n",
    "    sns.set_style('whitegrid')\n",
    "    plt.figure()\n",
    "    fig, ax = plt.subplots(nrow,2,figsize=(12,6*nrow))\n",
    "\n",
    "    for feature in var:\n",
    "        i += 1\n",
    "        plt.subplot(nrow,2,i)\n",
    "        sns.kdeplot(t1[feature], bw=0.5,label=\"TARGET = 1\")\n",
    "        sns.kdeplot(t0[feature], bw=0.5,label=\"TARGET = 0\")\n",
    "        plt.ylabel('Density plot', fontsize=12)\n",
    "        plt.xlabel(feature, fontsize=12)\n",
    "        locs, labels = plt.xticks()\n",
    "        plt.tick_params(axis='both', which='major', labelsize=12)\n",
    "    plt.show();"
   ],
   "metadata": {
    "collapsed": false,
    "pycharm": {
     "name": "#%%\n"
    }
   }
  },
  {
   "cell_type": "code",
   "execution_count": null,
   "outputs": [],
   "source": [
    "# Fonction permettant d'afficher l'éboulis des valeurs propres\n",
    "\n",
    "def display_scree_plot(acp):\n",
    "\n",
    "    scree = acp.explained_variance_ratio_*100\n",
    "    plt.figure(figsize=(8, 8))\n",
    "    plt.bar(np.arange(len(scree))+1, scree)\n",
    "    plt.plot(np.arange(len(scree))+1, scree.cumsum(),c=\"red\",marker='o')\n",
    "    plt.xlabel(\"Rang de l'axe d'inertie\")\n",
    "    plt.ylabel(\"Pourcentage d'inertie\")\n",
    "    plt.title(\"Éboulis des valeurs propres\")\n",
    "    plt.show(block=False)"
   ],
   "metadata": {
    "collapsed": false,
    "pycharm": {
     "name": "#%%\n"
    }
   }
  },
  {
   "cell_type": "code",
   "execution_count": null,
   "outputs": [],
   "source": [
    "# Fonction permettant de réaliser une ACP\n",
    "\n",
    "def application_pca(df, taux=0.9):\n",
    "    \n",
    "    # n_comp = 40\n",
    "    pca = PCA(taux)\n",
    "\n",
    "    X_pca = pd.DataFrame(pca.fit_transform(df))\n",
    "\n",
    "    # Appel de la fonction qui trace la courbe des éboulis des valeurs propres\n",
    "    display_scree_plot(pca)\n",
    "\n",
    "    return X_pca"
   ],
   "metadata": {
    "collapsed": false,
    "pycharm": {
     "name": "#%%\n"
    }
   }
  },
  {
   "cell_type": "code",
   "execution_count": null,
   "outputs": [],
   "source": [
    "def preprocesseur(df_train, df_test, imputername, scalername):\n",
    "    \n",
    "    # Supprime la Target du training set\n",
    "    if \"TARGET\" in df_train:\n",
    "        train = df_train.drop(columns = [\"TARGET\"])\n",
    "    else:\n",
    "        train = df_train.copy()\n",
    "        \n",
    "    # Nom des features\n",
    "    features = list(train.columns)\n",
    "\n",
    "    # Imputation médiane des valeurs manquantes\n",
    "    imputer = SimpleImputer(strategy = 'median')\n",
    "\n",
    "    # Scaling de chaque feature\n",
    "    scaler = MinMaxScaler(feature_range = (0, 1))\n",
    "\n",
    "    # Remplace les colonnes booléennes par des valeurs numériques\n",
    "    train[\"DAYS_EMPLOYED_ANOM\"] = train[\"DAYS_EMPLOYED_ANOM\"].astype(\"int\")\n",
    "\n",
    "    # Fit sur le training set\n",
    "    imputer.fit(train)\n",
    "    filename = imputername + \".pkl\"\n",
    "    joblib.dump(imputer, filename)\n",
    "\n",
    "    # Transformation du training et testing set\n",
    "    train = imputer.transform(train)\n",
    "    test = imputer.transform(df_test)\n",
    "\n",
    "    # Scaler\n",
    "    scaler.fit(train)\n",
    "    filename = scalername + \".pkl\"\n",
    "    joblib.dump(scaler, filename)\n",
    "    train = scaler.transform(train)\n",
    "    test = scaler.transform(test)\n",
    "    \n",
    "    return train, test"
   ],
   "metadata": {
    "collapsed": false,
    "pycharm": {
     "name": "#%%\n"
    }
   }
  },
  {
   "cell_type": "code",
   "execution_count": null,
   "outputs": [],
   "source": [
    "def echantillonage(df_X, df_y):\n",
    "\n",
    "    X = df_X.copy()\n",
    "    y = df_y.copy()\n",
    "\n",
    "    X_train, X_test, y_train, y_test = train_test_split(X, y, test_size=0.2, random_state=0)\n",
    "    \n",
    "    return X_train, X_test, y_train, y_test"
   ],
   "metadata": {
    "collapsed": false,
    "pycharm": {
     "name": "#%%\n"
    }
   }
  },
  {
   "cell_type": "code",
   "execution_count": null,
   "outputs": [],
   "source": [
    "def log_reg(df_X_train, df_y_train, df_y_test, df_X_test):\n",
    "    \n",
    "    # Création du modèle avec les paramètres spécifiés\n",
    "    log_reg = LogisticRegression(C = 0.0001)\n",
    "\n",
    "    # Entraînement sur le training data\n",
    "    log_reg.fit(df_X_train, df_y_train)\n",
    "    \n",
    "    y_pred = log_reg.predict(df_X_test)\n",
    "\n",
    "    accuracy = accuracy_score(df_y_test, y_pred)\n",
    "    \n",
    "    print(\"Accuracy: %.2f%%\" % (accuracy * 100.0))\n",
    "    \n",
    "    # Création des prédictions\n",
    "    # Sélection de la deuxième colonne\n",
    "    log_reg_pred = log_reg.predict_proba(df_X_test)[:, 1]\n",
    "    \n",
    "    return log_reg_pred"
   ],
   "metadata": {
    "collapsed": false,
    "pycharm": {
     "name": "#%%\n"
    }
   }
  },
  {
   "cell_type": "code",
   "execution_count": null,
   "outputs": [],
   "source": [
    "def save_results(df_res, df_pred, new_col, df_index):\n",
    "\n",
    "    df_pred_lr = pd.DataFrame(df_pred, columns=[new_col], index=df_index.index)\n",
    "\n",
    "    df_res = pd.concat([df_res, df_pred_lr], sort=False, axis=1)\n",
    "    \n",
    "    return df_res"
   ],
   "metadata": {
    "collapsed": false,
    "pycharm": {
     "name": "#%%\n"
    }
   }
  },
  {
   "cell_type": "code",
   "execution_count": null,
   "outputs": [],
   "source": [
    "def transform_treshold(df, tresh):\n",
    "    \n",
    "    new_df = (df >= tresh).astype(\"int\")\n",
    "    \n",
    "    return new_df"
   ],
   "metadata": {
    "collapsed": false,
    "pycharm": {
     "name": "#%%\n"
    }
   }
  },
  {
   "cell_type": "code",
   "execution_count": null,
   "outputs": [],
   "source": [
    "# Fonction permettant d'afficher une matrice de confusion\n",
    "\n",
    "def aff_confusion_matrix(df_true, df_pred):\n",
    "\n",
    "    conf_mat = confusion_matrix(df_true, df_pred)\n",
    "\n",
    "    print('Confusion matrix:\\n', conf_mat)\n",
    "\n",
    "    labels = ['Class 0', 'Class 1']\n",
    "    fig = plt.figure()\n",
    "    ax = fig.add_subplot(111)\n",
    "    cax = ax.matshow(conf_mat, cmap=plt.cm.Blues)\n",
    "    fig.colorbar(cax)\n",
    "    ax.set_xticklabels([''] + labels)\n",
    "    ax.set_yticklabels([''] + labels)\n",
    "    plt.xlabel('Predicted')\n",
    "    plt.ylabel('Expected')\n",
    "    plt.show()"
   ],
   "metadata": {
    "collapsed": false,
    "pycharm": {
     "name": "#%%\n"
    }
   }
  },
  {
   "cell_type": "code",
   "execution_count": null,
   "outputs": [],
   "source": [
    "def plot_feature_importances(df):\n",
    "    \"\"\"\n",
    "    Plot importances returned by a model. This can work with any measure of\n",
    "    feature importance provided that higher importance is better.\n",
    "\n",
    "    Args:\n",
    "        df (dataframe): feature importances. Must have the features in a column\n",
    "        called `features` and the importances in a column called `importance\n",
    "\n",
    "    Returns:\n",
    "        shows a plot of the 15 most importance features\n",
    "\n",
    "        df (dataframe): feature importances sorted by importance (highest to lowest)\n",
    "        with a column for normalized importance\n",
    "        \"\"\"\n",
    "\n",
    "    # Sort features according to importance\n",
    "    df = df.sort_values('importance', ascending = False).reset_index()\n",
    "\n",
    "    # Normalize the feature importances to add up to one\n",
    "    df['importance_normalized'] = df['importance'] / df['importance'].sum()\n",
    "\n",
    "    # Make a horizontal bar chart of feature importances\n",
    "    plt.figure(figsize = (10, 6))\n",
    "    ax = plt.subplot()\n",
    "\n",
    "    # Need to reverse the index to plot most important on top\n",
    "    ax.barh(list(reversed(list(df.index[:15]))),\n",
    "            df['importance_normalized'].head(15),\n",
    "            align = 'center', edgecolor = 'k')\n",
    "\n",
    "    # Set the yticks and labels\n",
    "    ax.set_yticks(list(reversed(list(df.index[:15]))))\n",
    "    ax.set_yticklabels(df['feature'].head(15))\n",
    "\n",
    "    # Plot labeling\n",
    "    plt.xlabel('Normalized Importance'); plt.title('Feature Importances')\n",
    "    plt.show()\n",
    "\n",
    "    return df"
   ],
   "metadata": {
    "collapsed": false,
    "pycharm": {
     "name": "#%%\n"
    }
   }
  },
  {
   "cell_type": "markdown",
   "source": [
    "# Chargement des données"
   ],
   "metadata": {
    "collapsed": false,
    "pycharm": {
     "name": "#%% md\n"
    }
   }
  },
  {
   "cell_type": "code",
   "execution_count": null,
   "outputs": [],
   "source": [
    "app_train = pd.read_csv(r\"C:\\Users\\tothm\\PycharmProjects\\Projet 7\\datasets\\application_train.csv\")\n",
    "app_test = pd.read_csv(r\"C:\\Users\\tothm\\PycharmProjects\\Projet 7\\datasets\\application_test.csv\")\n",
    "bureau = pd.read_csv(r\"C:\\Users\\tothm\\PycharmProjects\\Projet 7\\datasets\\bureau.csv\")\n",
    "bureau_balance = pd.read_csv(r\"C:\\Users\\tothm\\PycharmProjects\\Projet 7\\datasets\\bureau_balance.csv\")\n",
    "credit_card_balance = pd.read_csv(r\"C:\\Users\\tothm\\PycharmProjects\\Projet 7\\datasets\\credit_card_balance.csv\")\n",
    "installments_payments = pd.read_csv(r\"C:\\Users\\tothm\\PycharmProjects\\Projet 7\\datasets\\installments_payments.csv\")\n",
    "previous_application = pd.read_csv(r\"C:\\Users\\tothm\\PycharmProjects\\Projet 7\\datasets\\previous_application.csv\")\n",
    "POS_CASH_balance = pd.read_csv(r\"C:\\Users\\tothm\\PycharmProjects\\Projet 7\\datasets\\POS_CASH_balance.csv\")"
   ],
   "metadata": {
    "collapsed": false,
    "pycharm": {
     "name": "#%%\n"
    }
   }
  },
  {
   "cell_type": "markdown",
   "source": [
    "# Analyse Exploratoire"
   ],
   "metadata": {
    "collapsed": false,
    "pycharm": {
     "name": "#%% md\n"
    }
   }
  },
  {
   "cell_type": "markdown",
   "source": [
    "## Types des colonnes"
   ],
   "metadata": {
    "collapsed": false,
    "pycharm": {
     "name": "#%% md\n"
    }
   }
  },
  {
   "cell_type": "code",
   "execution_count": null,
   "outputs": [],
   "source": [
    "# Colonnes de chaque type\n",
    "app_train.dtypes.value_counts()"
   ],
   "metadata": {
    "collapsed": false,
    "pycharm": {
     "name": "#%%\n"
    }
   }
  },
  {
   "cell_type": "code",
   "execution_count": null,
   "outputs": [],
   "source": [
    "# Catégories uniques des colonnes de type object\n",
    "app_train.select_dtypes('object').apply(pd.Series.nunique, axis = 0)"
   ],
   "metadata": {
    "collapsed": false,
    "pycharm": {
     "name": "#%%\n"
    }
   }
  },
  {
   "cell_type": "markdown",
   "source": [
    "## Données présentes / manquantes"
   ],
   "metadata": {
    "collapsed": false,
    "pycharm": {
     "name": "#%% md\n"
    }
   }
  },
  {
   "cell_type": "markdown",
   "source": [
    "### app_train"
   ],
   "metadata": {
    "collapsed": false,
    "pycharm": {
     "name": "#%% md\n"
    }
   }
  },
  {
   "cell_type": "code",
   "execution_count": null,
   "outputs": [],
   "source": [
    "print('app_train data shape: ', app_train.shape)\n",
    "app_train.head()"
   ],
   "metadata": {
    "collapsed": false,
    "pycharm": {
     "name": "#%%\n"
    }
   }
  },
  {
   "cell_type": "code",
   "execution_count": null,
   "outputs": [],
   "source": [
    "missing_data(app_train).head(10)"
   ],
   "metadata": {
    "collapsed": false,
    "pycharm": {
     "name": "#%%\n"
    }
   }
  },
  {
   "cell_type": "markdown",
   "source": [
    "### app_test"
   ],
   "metadata": {
    "collapsed": false,
    "pycharm": {
     "name": "#%% md\n"
    }
   }
  },
  {
   "cell_type": "code",
   "execution_count": null,
   "outputs": [],
   "source": [
    "print('app_test data shape: ', app_test.shape)\n",
    "app_test.head()"
   ],
   "metadata": {
    "collapsed": false,
    "pycharm": {
     "name": "#%%\n"
    }
   }
  },
  {
   "cell_type": "code",
   "execution_count": null,
   "outputs": [],
   "source": [
    "missing_data(app_test).head(10)"
   ],
   "metadata": {
    "collapsed": false,
    "pycharm": {
     "name": "#%%\n"
    }
   }
  },
  {
   "cell_type": "markdown",
   "source": [
    "### bureau"
   ],
   "metadata": {
    "collapsed": false,
    "pycharm": {
     "name": "#%% md\n"
    }
   }
  },
  {
   "cell_type": "code",
   "execution_count": null,
   "outputs": [],
   "source": [
    "print('bureau data shape: ', bureau.shape)\n",
    "bureau.head()"
   ],
   "metadata": {
    "collapsed": false,
    "pycharm": {
     "name": "#%%\n"
    }
   }
  },
  {
   "cell_type": "code",
   "execution_count": null,
   "outputs": [],
   "source": [
    "missing_data(bureau).head(10)"
   ],
   "metadata": {
    "collapsed": false,
    "pycharm": {
     "name": "#%%\n"
    }
   }
  },
  {
   "cell_type": "markdown",
   "source": [
    "### bureau_balance"
   ],
   "metadata": {
    "collapsed": false,
    "pycharm": {
     "name": "#%% md\n"
    }
   }
  },
  {
   "cell_type": "code",
   "execution_count": null,
   "outputs": [],
   "source": [
    "print('bureau_balance data shape: ', bureau_balance.shape)\n",
    "bureau_balance.head()"
   ],
   "metadata": {
    "collapsed": false,
    "pycharm": {
     "name": "#%%\n"
    }
   }
  },
  {
   "cell_type": "code",
   "execution_count": null,
   "outputs": [],
   "source": [
    "missing_data(bureau_balance).head(10)"
   ],
   "metadata": {
    "collapsed": false,
    "pycharm": {
     "name": "#%%\n"
    }
   }
  },
  {
   "cell_type": "markdown",
   "source": [
    "### credit_card_balance"
   ],
   "metadata": {
    "collapsed": false,
    "pycharm": {
     "name": "#%% md\n"
    }
   }
  },
  {
   "cell_type": "code",
   "execution_count": null,
   "outputs": [],
   "source": [
    "print('credit_card_balance data shape: ', credit_card_balance.shape)\n",
    "credit_card_balance.head()"
   ],
   "metadata": {
    "collapsed": false,
    "pycharm": {
     "name": "#%%\n"
    }
   }
  },
  {
   "cell_type": "code",
   "execution_count": null,
   "outputs": [],
   "source": [
    "missing_data(credit_card_balance).head(10)"
   ],
   "metadata": {
    "collapsed": false,
    "pycharm": {
     "name": "#%%\n"
    }
   }
  },
  {
   "cell_type": "markdown",
   "source": [
    "### installments_payments"
   ],
   "metadata": {
    "collapsed": false,
    "pycharm": {
     "name": "#%% md\n"
    }
   }
  },
  {
   "cell_type": "code",
   "execution_count": null,
   "outputs": [],
   "source": [
    "print('installments_payments data shape: ', installments_payments.shape)\n",
    "installments_payments.head()"
   ],
   "metadata": {
    "collapsed": false,
    "pycharm": {
     "name": "#%%\n"
    }
   }
  },
  {
   "cell_type": "code",
   "execution_count": null,
   "outputs": [],
   "source": [
    "missing_data(installments_payments).head(10)"
   ],
   "metadata": {
    "collapsed": false,
    "pycharm": {
     "name": "#%%\n"
    }
   }
  },
  {
   "cell_type": "markdown",
   "source": [
    "### previous_application"
   ],
   "metadata": {
    "collapsed": false,
    "pycharm": {
     "name": "#%% md\n"
    }
   }
  },
  {
   "cell_type": "code",
   "execution_count": null,
   "outputs": [],
   "source": [
    "print('previous_application data shape: ', previous_application.shape)\n",
    "previous_application.head()"
   ],
   "metadata": {
    "collapsed": false,
    "pycharm": {
     "name": "#%%\n"
    }
   }
  },
  {
   "cell_type": "code",
   "execution_count": null,
   "outputs": [],
   "source": [
    "missing_data(previous_application).head(10)"
   ],
   "metadata": {
    "collapsed": false,
    "pycharm": {
     "name": "#%%\n"
    }
   }
  },
  {
   "cell_type": "markdown",
   "source": [
    "### POS_CASH_balance"
   ],
   "metadata": {
    "collapsed": false,
    "pycharm": {
     "name": "#%% md\n"
    }
   }
  },
  {
   "cell_type": "code",
   "execution_count": null,
   "outputs": [],
   "source": [
    "print('POS_CASH_balance data shape: ', POS_CASH_balance.shape)\n",
    "POS_CASH_balance.head()"
   ],
   "metadata": {
    "collapsed": false,
    "pycharm": {
     "name": "#%%\n"
    }
   }
  },
  {
   "cell_type": "code",
   "execution_count": null,
   "outputs": [],
   "source": [
    "missing_data(POS_CASH_balance).head(10)"
   ],
   "metadata": {
    "collapsed": false,
    "pycharm": {
     "name": "#%%\n"
    }
   }
  },
  {
   "cell_type": "markdown",
   "source": [
    "## Visualisation graphique"
   ],
   "metadata": {
    "collapsed": false,
    "pycharm": {
     "name": "#%% md\n"
    }
   }
  },
  {
   "cell_type": "markdown",
   "source": [
    "### Equilibre des classes"
   ],
   "metadata": {
    "collapsed": false,
    "pycharm": {
     "name": "#%% md\n"
    }
   }
  },
  {
   "cell_type": "markdown",
   "source": [
    "0 représente un prêt remboursé, 1 représente un prêt non remboursé."
   ],
   "metadata": {
    "collapsed": false,
    "pycharm": {
     "name": "#%% md\n"
    }
   }
  },
  {
   "cell_type": "code",
   "execution_count": null,
   "outputs": [],
   "source": [
    "temp = app_train[\"TARGET\"].value_counts()\n",
    "df = pd.DataFrame({'labels': temp.index,\n",
    "                   'values': temp.values\n",
    "                  })\n",
    "plt.figure(figsize = (6,6))\n",
    "plt.title('Prêts remboursés - train dataset')\n",
    "sns.set_color_codes(\"pastel\")\n",
    "sns.barplot(x = 'labels', y=\"values\", data=df)\n",
    "locs, labels = plt.xticks()\n",
    "plt.show()"
   ],
   "metadata": {
    "collapsed": false,
    "pycharm": {
     "name": "#%%\n"
    }
   }
  },
  {
   "cell_type": "code",
   "execution_count": null,
   "outputs": [],
   "source": [
    "plt.subplot(2, 2, 2)\n",
    "plt.title('TARGET', size=20, weight='bold')\n",
    "plt.pie(app_train['TARGET'].value_counts(), \n",
    "        labels=['Pas de défaillance', 'Défaillance'],\n",
    "        colors = ['royalblue', 'tomato'], \n",
    "        explode = [0, 0.2],\n",
    "        autopct = lambda x: str(round(x, 2)) + '%')\n",
    "plt.legend()"
   ],
   "metadata": {
    "collapsed": false,
    "pycharm": {
     "name": "#%%\n"
    }
   }
  },
  {
   "cell_type": "markdown",
   "source": [
    "On peut remarquer qu'il y a beaucoup plus de prêts remboursés que de prêts non-remboursés."
   ],
   "metadata": {
    "collapsed": false,
    "pycharm": {
     "name": "#%% md\n"
    }
   }
  },
  {
   "cell_type": "markdown",
   "source": [
    "### Type de contrat"
   ],
   "metadata": {
    "collapsed": false,
    "pycharm": {
     "name": "#%% md\n"
    }
   }
  },
  {
   "cell_type": "code",
   "execution_count": null,
   "outputs": [],
   "source": [
    "plot_stats('NAME_CONTRACT_TYPE')"
   ],
   "metadata": {
    "collapsed": false,
    "pycharm": {
     "name": "#%%\n"
    }
   }
  },
  {
   "cell_type": "markdown",
   "source": [
    "Les contrats de type \"revolving loans\" représentent environ 10% du nombre total de prêts.\n",
    "\n",
    "Si l'on compare avec leur fréquence, un plus grand nombre de prêts \"revolving loans\" semblent ne pas être remboursés."
   ],
   "metadata": {
    "collapsed": false,
    "pycharm": {
     "name": "#%% md\n"
    }
   }
  },
  {
   "cell_type": "markdown",
   "source": [
    "### Sexe du client"
   ],
   "metadata": {
    "collapsed": false,
    "pycharm": {
     "name": "#%% md\n"
    }
   }
  },
  {
   "cell_type": "code",
   "execution_count": null,
   "outputs": [],
   "source": [
    "plot_stats('CODE_GENDER')"
   ],
   "metadata": {
    "collapsed": false,
    "pycharm": {
     "name": "#%%\n"
    }
   }
  },
  {
   "cell_type": "markdown",
   "source": [
    "Il y a beaucoup plus de clients qui sont des femmes. De plus, les hommes semblent être plus encluns à ne pas rembourser leurs prêts comparés aux femmes."
   ],
   "metadata": {
    "collapsed": false,
    "pycharm": {
     "name": "#%% md\n"
    }
   }
  },
  {
   "cell_type": "markdown",
   "source": [
    "### Propriétaires de voitures ou de biens immobiliers"
   ],
   "metadata": {
    "collapsed": false,
    "pycharm": {
     "name": "#%% md\n"
    }
   }
  },
  {
   "cell_type": "code",
   "execution_count": null,
   "outputs": [],
   "source": [
    "plot_stats('FLAG_OWN_CAR')\n",
    "plot_stats('FLAG_OWN_REALTY')"
   ],
   "metadata": {
    "collapsed": false,
    "pycharm": {
     "name": "#%%\n"
    }
   }
  },
  {
   "cell_type": "markdown",
   "source": [
    "Les clients qui ne possèdent pas de voiture sont environ le double de ceux qui en possèdent une; posséder une voiture semble légèrement diminuer le risque de non-remboursement."
   ],
   "metadata": {
    "collapsed": false,
    "pycharm": {
     "name": "#%% md\n"
    }
   }
  },
  {
   "cell_type": "markdown",
   "source": [
    "Inversement, les clients qui possèdent un bien immobilier sont plus du double de ceux qui n'en possèdent pas; la possession de bien immobilier ne semble pas beaucoup influencer la probabilité de non-remboursement."
   ],
   "metadata": {
    "collapsed": false,
    "pycharm": {
     "name": "#%% md\n"
    }
   }
  },
  {
   "cell_type": "markdown",
   "source": [
    "### Status familial"
   ],
   "metadata": {
    "collapsed": false,
    "pycharm": {
     "name": "#%% md\n"
    }
   }
  },
  {
   "cell_type": "code",
   "execution_count": null,
   "outputs": [],
   "source": [
    "plot_stats('NAME_FAMILY_STATUS',True, True)"
   ],
   "metadata": {
    "collapsed": false,
    "pycharm": {
     "name": "#%%\n"
    }
   }
  },
  {
   "cell_type": "markdown",
   "source": [
    "Les clients marriés représentent la très grande majorité des contrats. La catégorie la plus à risque de ne pas rembourser est \"civil marriage\" et la moins à risque est \"widow\"."
   ],
   "metadata": {
    "collapsed": false,
    "pycharm": {
     "name": "#%% md\n"
    }
   }
  },
  {
   "cell_type": "markdown",
   "source": [
    "### Nombre d'enfants"
   ],
   "metadata": {
    "collapsed": false,
    "pycharm": {
     "name": "#%% md\n"
    }
   }
  },
  {
   "cell_type": "code",
   "execution_count": null,
   "outputs": [],
   "source": [
    "plot_stats('CNT_CHILDREN')"
   ],
   "metadata": {
    "collapsed": false,
    "pycharm": {
     "name": "#%%\n"
    }
   }
  },
  {
   "cell_type": "markdown",
   "source": [
    "La plupart des clients n'ont pas d'enfants. Les clients avec 4 ou 6 enfants sont au dessus de la moyenne en termes de pourcentage de prêts non-remboursés, tandis que les clients avec 9 ou 11 enfants ont un pourcentage de non-remboursement de 100%. "
   ],
   "metadata": {
    "collapsed": false,
    "pycharm": {
     "name": "#%% md\n"
    }
   }
  },
  {
   "cell_type": "markdown",
   "source": [
    "### Membres de la famille"
   ],
   "metadata": {
    "collapsed": false,
    "pycharm": {
     "name": "#%% md\n"
    }
   }
  },
  {
   "cell_type": "code",
   "execution_count": null,
   "outputs": [],
   "source": [
    "plot_stats('CNT_FAM_MEMBERS',True)"
   ],
   "metadata": {
    "collapsed": false,
    "pycharm": {
     "name": "#%%\n"
    }
   }
  },
  {
   "cell_type": "markdown",
   "source": [
    "Les clients avec une famille de deux membres sont les plus nombreux, suivis de 1 (personne seule), 3 et 4.\n",
    "Les clients avec une famille de 8 ou 10 membres sont à environ 30% de risque de non-remboursement.\n",
    "Les clients avec une famille de 11 et 13 membres ont un taux de non-remboursement de 100%."
   ],
   "metadata": {
    "collapsed": false,
    "pycharm": {
     "name": "#%% md\n"
    }
   }
  },
  {
   "cell_type": "code",
   "execution_count": null,
   "outputs": [],
   "source": [
    "plot_stats('NAME_HOUSING_TYPE',True)"
   ],
   "metadata": {
    "collapsed": false,
    "pycharm": {
     "name": "#%%\n"
    }
   }
  },
  {
   "cell_type": "markdown",
   "source": [
    "### Jours employés"
   ],
   "metadata": {
    "collapsed": false,
    "pycharm": {
     "name": "#%% md\n"
    }
   }
  },
  {
   "cell_type": "code",
   "execution_count": null,
   "outputs": [],
   "source": [
    "plot_distribution('DAYS_EMPLOYED','red')"
   ],
   "metadata": {
    "collapsed": false,
    "pycharm": {
     "name": "#%%\n"
    }
   }
  },
  {
   "cell_type": "markdown",
   "source": [
    "On remarque une anomalie, en effet il est difficile d'imaginer que certaines personnes aient été employées plus de 300 000 jours\n",
    " (presque 1000 ans)."
   ],
   "metadata": {
    "collapsed": false,
    "pycharm": {
     "name": "#%% md\n"
    }
   }
  },
  {
   "cell_type": "markdown",
   "source": [
    "### Gestion de l'anomalie"
   ],
   "metadata": {
    "collapsed": false,
    "pycharm": {
     "name": "#%% md\n"
    }
   }
  },
  {
   "cell_type": "code",
   "execution_count": null,
   "outputs": [],
   "source": [
    "anom = app_train[app_train['DAYS_EMPLOYED'] == 365243]\n",
    "print('%d clients sont concernés par cette anomalie.' % len(anom))"
   ],
   "metadata": {
    "collapsed": false,
    "pycharm": {
     "name": "#%%\n"
    }
   }
  },
  {
   "cell_type": "markdown",
   "source": [
    "On remplace ces erreurs par une valeur manquante."
   ],
   "metadata": {
    "collapsed": false,
    "pycharm": {
     "name": "#%% md\n"
    }
   }
  },
  {
   "cell_type": "code",
   "execution_count": null,
   "outputs": [],
   "source": [
    "# Création d'une colonne pour repérer les anomalies\n",
    "app_train['DAYS_EMPLOYED_ANOM'] = app_train[\"DAYS_EMPLOYED\"] == 365243\n",
    "\n",
    "# Remplaçage des erreurs par une valeur NaN\n",
    "app_train['DAYS_EMPLOYED'].replace({365243: np.nan}, inplace = True)"
   ],
   "metadata": {
    "collapsed": false,
    "pycharm": {
     "name": "#%%\n"
    }
   }
  },
  {
   "cell_type": "code",
   "execution_count": null,
   "outputs": [],
   "source": [
    "plot_distribution('DAYS_EMPLOYED','red')"
   ],
   "metadata": {
    "collapsed": false,
    "pycharm": {
     "name": "#%%\n"
    }
   }
  },
  {
   "cell_type": "markdown",
   "source": [
    "Important : les modifications faites au training set doivent aussi être appliquées au testing set."
   ],
   "metadata": {
    "collapsed": false,
    "pycharm": {
     "name": "#%% md\n"
    }
   }
  },
  {
   "cell_type": "code",
   "execution_count": null,
   "outputs": [],
   "source": [
    "app_test['DAYS_EMPLOYED_ANOM'] = app_test[\"DAYS_EMPLOYED\"] == 365243\n",
    "app_test[\"DAYS_EMPLOYED\"].replace({365243: np.nan}, inplace = True)\n",
    "\n",
    "print('Il y a %d anomalies dans le training set (sur les %d entrées totales).' % (app_test[\"DAYS_EMPLOYED_ANOM\"].sum(), len(app_test)))"
   ],
   "metadata": {
    "collapsed": false,
    "pycharm": {
     "name": "#%%\n"
    }
   }
  },
  {
   "cell_type": "markdown",
   "source": [
    "## Corrélations"
   ],
   "metadata": {
    "collapsed": false,
    "pycharm": {
     "name": "#%% md\n"
    }
   }
  },
  {
   "cell_type": "code",
   "execution_count": null,
   "outputs": [],
   "source": [
    "# On utilise df.corr() pour trouver les features les plus corrélées à TARGET\n",
    "correlations = app_train.corr()['TARGET'].sort_values()\n",
    "\n",
    "print('Corrélations les plus positives:\\n', correlations.tail(15))\n",
    "print('\\nCorrélations les plus négatives:\\n', correlations.head(15))"
   ],
   "metadata": {
    "collapsed": false,
    "pycharm": {
     "name": "#%%\n"
    }
   }
  },
  {
   "cell_type": "markdown",
   "source": [
    "### Âge des clients"
   ],
   "metadata": {
    "collapsed": false,
    "pycharm": {
     "name": "#%% md\n"
    }
   }
  },
  {
   "cell_type": "code",
   "execution_count": null,
   "outputs": [],
   "source": [
    "# Corrélation entre l'âge et la TARGET\n",
    "app_train['DAYS_BIRTH'] = abs(app_train['DAYS_BIRTH'])\n",
    "app_train['DAYS_BIRTH'].corr(app_train['TARGET'])"
   ],
   "metadata": {
    "collapsed": false,
    "pycharm": {
     "name": "#%%\n"
    }
   }
  },
  {
   "cell_type": "markdown",
   "source": [
    "Une corrélation négative indique que les clients plus âgés sont moins à risque de ne pas rembourser les prêts."
   ],
   "metadata": {
    "collapsed": false,
    "pycharm": {
     "name": "#%% md\n"
    }
   }
  },
  {
   "cell_type": "code",
   "execution_count": null,
   "outputs": [],
   "source": [
    "plot_distribution('DAYS_BIRTH','blue')"
   ],
   "metadata": {
    "collapsed": false,
    "pycharm": {
     "name": "#%%\n"
    }
   }
  },
  {
   "cell_type": "code",
   "execution_count": null,
   "outputs": [],
   "source": [
    "plt.figure(figsize = (10, 8))\n",
    "\n",
    "# Graphique KDE des prêts remboursés à temps\n",
    "sns.kdeplot(app_train.loc[app_train['TARGET'] == 0, 'DAYS_BIRTH'] / 365, label = 'target == 0')\n",
    "\n",
    "# Graphique KDE des prêts non-remboursés à temps\n",
    "sns.kdeplot(app_train.loc[app_train['TARGET'] == 1, 'DAYS_BIRTH'] / 365, label = 'target == 1')\n",
    "\n",
    "# Légende\n",
    "plt.xlabel('Âge (années)'); plt.ylabel('Densité'); plt.title('Distribution des âges'); plt.legend();"
   ],
   "metadata": {
    "collapsed": false,
    "pycharm": {
     "name": "#%%\n"
    }
   }
  },
  {
   "cell_type": "code",
   "execution_count": null,
   "outputs": [],
   "source": [
    "# Âge sur un dataframe séparé\n",
    "age_data = app_train[['TARGET', 'DAYS_BIRTH']]\n",
    "age_data['YEARS_BIRTH'] = age_data['DAYS_BIRTH'] / 365\n",
    "\n",
    "# Découpage des données\n",
    "age_data['YEARS_BINNED'] = pd.cut(age_data['YEARS_BIRTH'], bins = np.linspace(20, 70, num = 11))\n",
    "age_data.head(10)"
   ],
   "metadata": {
    "collapsed": false,
    "pycharm": {
     "name": "#%%\n"
    }
   }
  },
  {
   "cell_type": "code",
   "execution_count": null,
   "outputs": [],
   "source": [
    "# Regroupage et calcul de la moyenne\n",
    "age_groups  = age_data.groupby('YEARS_BINNED').mean()\n",
    "age_groups"
   ],
   "metadata": {
    "collapsed": false,
    "pycharm": {
     "name": "#%%\n"
    }
   }
  },
  {
   "cell_type": "code",
   "execution_count": null,
   "outputs": [],
   "source": [
    "plt.figure(figsize = (8, 8))\n",
    "\n",
    "# Affichage du graphique des moyennes par tranche d'âge\n",
    "plt.bar(age_groups.index.astype(str), 100 * age_groups['TARGET'])\n",
    "\n",
    "# Légende\n",
    "plt.xticks(rotation = 75); plt.xlabel(\"Tranche d'âge (années)\"); plt.ylabel(\"Absence de remboursement (%)\")\n",
    "plt.title(\"Absence de remboursement par tranche d'âge\");"
   ],
   "metadata": {
    "collapsed": false,
    "pycharm": {
     "name": "#%%\n"
    }
   }
  },
  {
   "cell_type": "markdown",
   "source": [
    "### Sources extérieures"
   ],
   "metadata": {
    "collapsed": false,
    "pycharm": {
     "name": "#%% md\n"
    }
   }
  },
  {
   "cell_type": "code",
   "execution_count": null,
   "outputs": [],
   "source": [
    "# Extraction des variables EXT_SOURCE et affichage des correlations\n",
    "ext_data = app_train[['TARGET', 'EXT_SOURCE_1', 'EXT_SOURCE_2', 'EXT_SOURCE_3', 'DAYS_BIRTH']]\n",
    "ext_data_corrs = ext_data.corr()\n",
    "ext_data_corrs"
   ],
   "metadata": {
    "collapsed": false,
    "pycharm": {
     "name": "#%%\n"
    }
   }
  },
  {
   "cell_type": "code",
   "execution_count": null,
   "outputs": [],
   "source": [
    "plt.figure(figsize = (8, 6))\n",
    "\n",
    "# Heatmap des correlations\n",
    "sns.heatmap(ext_data_corrs, cmap = plt.cm.RdYlBu_r, vmin = -0.25, annot = True, vmax = 0.6)\n",
    "plt.title('Correlation Heatmap');"
   ],
   "metadata": {
    "collapsed": false,
    "pycharm": {
     "name": "#%%\n"
    }
   }
  },
  {
   "cell_type": "code",
   "execution_count": null,
   "outputs": [],
   "source": [
    "plt.figure(figsize = (10, 12))\n",
    "\n",
    "for i, source in enumerate(['EXT_SOURCE_1', 'EXT_SOURCE_2', 'EXT_SOURCE_3']):\n",
    "    \n",
    "    # Subplot pour chaque source\n",
    "    plt.subplot(3, 1, i + 1)\n",
    "    # Graphique (prêts remboursés)\n",
    "    sns.kdeplot(app_train.loc[app_train['TARGET'] == 0, source], label = 'target == 0')\n",
    "    # Graphique (prêts non-remboursés)\n",
    "    sns.kdeplot(app_train.loc[app_train['TARGET'] == 1, source], label = 'target == 1')\n",
    "    \n",
    "    # Légende\n",
    "    plt.title('Distribution des %s selon la valeur Target' % source)\n",
    "    plt.xlabel('%s' % source); plt.ylabel('Densité')\n",
    "    plt.legend();\n",
    "    \n",
    "plt.tight_layout(h_pad = 2.5)"
   ],
   "metadata": {
    "collapsed": false,
    "pycharm": {
     "name": "#%%\n"
    }
   }
  },
  {
   "cell_type": "markdown",
   "source": [
    "# Feature Engineering"
   ],
   "metadata": {
    "collapsed": false,
    "pycharm": {
     "name": "#%% md\n"
    }
   }
  },
  {
   "cell_type": "markdown",
   "source": [
    "## Encodage des variables qualitatives"
   ],
   "metadata": {
    "collapsed": false,
    "pycharm": {
     "name": "#%% md\n"
    }
   }
  },
  {
   "cell_type": "code",
   "execution_count": null,
   "outputs": [],
   "source": [
    "# Création d'un objet LabelEncoder\n",
    "le = LabelEncoder()\n",
    "le_count = 0\n",
    "\n",
    "for col in app_train:\n",
    "    if app_train[col].dtype == 'object':\n",
    "        # Si 2 ou moins de catégories uniques\n",
    "        if len(list(app_train[col].unique())) <= 2:\n",
    "            # Entraînement sur le training data\n",
    "            le.fit(app_train[col])\n",
    "            filename = 'encoder_' + str(le_count) + '.pkl'\n",
    "            joblib.dump(le, filename)\n",
    "            # Transformation des training et testing data\n",
    "            app_train[col] = le.transform(app_train[col])\n",
    "            app_test[col] = le.transform(app_test[col])\n",
    "            \n",
    "            # Compteur des colonnes encodées\n",
    "            le_count += 1\n",
    "            \n",
    "print('%d colonnes ont été encodées.' % le_count)"
   ],
   "metadata": {
    "collapsed": false,
    "pycharm": {
     "name": "#%%\n"
    }
   }
  },
  {
   "cell_type": "code",
   "execution_count": null,
   "outputs": [],
   "source": [
    "# Encodage one-hot des variables qualitatives\n",
    "app_train = pd.get_dummies(app_train)\n",
    "app_test = pd.get_dummies(app_test)\n",
    "\n",
    "print('Dimension des training features: ', app_train.shape)\n",
    "print('Dimension des testing features: ', app_test.shape)"
   ],
   "metadata": {
    "collapsed": false,
    "pycharm": {
     "name": "#%%\n"
    }
   }
  },
  {
   "cell_type": "code",
   "execution_count": null,
   "outputs": [],
   "source": [
    "train_labels = app_train['TARGET']\n",
    "\n",
    "# Alignement des données de training et testing, en ne gardant que les colonnes déjà présentes dans les deux dataframes\n",
    "app_train, app_test = app_train.align(app_test, join = 'inner', axis = 1)\n",
    "\n",
    "# Rajout de la Target\n",
    "app_train['TARGET'] = train_labels\n",
    "\n",
    "print('Training Features shape: ', app_train.shape)\n",
    "print('Testing Features shape: ', app_test.shape)"
   ],
   "metadata": {
    "collapsed": false,
    "pycharm": {
     "name": "#%%\n"
    }
   }
  },
  {
   "cell_type": "markdown",
   "source": [
    "## Features liées à la problématique métier"
   ],
   "metadata": {
    "collapsed": false,
    "pycharm": {
     "name": "#%% md\n"
    }
   }
  },
  {
   "cell_type": "markdown",
   "source": [
    "Pour améliorer nos prédictions, on rajoute 4 features liées aux prêts des clients :\n",
    "\n",
    "CREDIT_INCOME_PERCENT: Pourcentage du montant de crédit par rapport aux revenus du client\n",
    "ANNUITY_INCOME_PERCENT: Pourcentage du montant du prêt annuel par rapport aux revenus du client\n",
    "CREDIT_TERM: Durée du paiement en mois\n",
    "DAYS_EMPLOYED_PERCENT: Pourcentage des jours employés par rapport à l'âge du client"
   ],
   "metadata": {
    "collapsed": false,
    "pycharm": {
     "name": "#%% md\n"
    }
   }
  },
  {
   "cell_type": "code",
   "execution_count": null,
   "outputs": [],
   "source": [
    "app_train_domain = app_train.copy()\n",
    "app_test_domain = app_test.copy()\n",
    "\n",
    "app_train_domain['CREDIT_INCOME_PERCENT'] = app_train_domain['AMT_CREDIT'] / app_train_domain['AMT_INCOME_TOTAL']\n",
    "app_train_domain['ANNUITY_INCOME_PERCENT'] = app_train_domain['AMT_ANNUITY'] / app_train_domain['AMT_INCOME_TOTAL']\n",
    "app_train_domain['CREDIT_TERM'] = app_train_domain['AMT_ANNUITY'] / app_train_domain['AMT_CREDIT']\n",
    "app_train_domain['DAYS_EMPLOYED_PERCENT'] = app_train_domain['DAYS_EMPLOYED'] / app_train_domain['DAYS_BIRTH']"
   ],
   "metadata": {
    "collapsed": false,
    "pycharm": {
     "name": "#%%\n"
    }
   }
  },
  {
   "cell_type": "code",
   "execution_count": null,
   "outputs": [],
   "source": [
    "app_test_domain['CREDIT_INCOME_PERCENT'] = app_test_domain['AMT_CREDIT'] / app_test_domain['AMT_INCOME_TOTAL']\n",
    "app_test_domain['ANNUITY_INCOME_PERCENT'] = app_test_domain['AMT_ANNUITY'] / app_test_domain['AMT_INCOME_TOTAL']\n",
    "app_test_domain['CREDIT_TERM'] = app_test_domain['AMT_ANNUITY'] / app_test_domain['AMT_CREDIT']\n",
    "app_test_domain['DAYS_EMPLOYED_PERCENT'] = app_test_domain['DAYS_EMPLOYED'] / app_test_domain['DAYS_BIRTH']"
   ],
   "metadata": {
    "collapsed": false,
    "pycharm": {
     "name": "#%%\n"
    }
   }
  },
  {
   "cell_type": "code",
   "execution_count": null,
   "outputs": [],
   "source": [
    "plt.figure(figsize = (12, 20))\n",
    "\n",
    "for i, feature in enumerate(['CREDIT_INCOME_PERCENT', 'ANNUITY_INCOME_PERCENT', 'CREDIT_TERM', 'DAYS_EMPLOYED_PERCENT']):\n",
    "    \n",
    "    # Subplot pour chaque source\n",
    "    plt.subplot(4, 1, i + 1)\n",
    "    # Graphique (prêts remboursés)\n",
    "    sns.kdeplot(app_train_domain.loc[app_train_domain['TARGET'] == 0, feature], label = 'target == 0')\n",
    "    # Graphique (prêts non-remboursés)\n",
    "    sns.kdeplot(app_train_domain.loc[app_train_domain['TARGET'] == 1, feature], label = 'target == 1')\n",
    "    \n",
    "    # Légende\n",
    "    plt.title('Distribution de %s selon la valeur de Target' % feature)\n",
    "    plt.xlabel('%s' % feature); plt.ylabel('Density')\n",
    "    plt.legend();\n",
    "    \n",
    "plt.tight_layout(h_pad = 2.5)"
   ],
   "metadata": {
    "collapsed": false,
    "pycharm": {
     "name": "#%%\n"
    }
   }
  },
  {
   "cell_type": "code",
   "execution_count": null,
   "outputs": [],
   "source": [
    "app_train.drop(columns=\"SK_ID_CURR\", inplace=True)\n",
    "app_test.drop(columns=\"SK_ID_CURR\", inplace=True)\n",
    "\n",
    "print(\"Preprocessing sans features métier\")\n",
    "train, test = preprocesseur(app_train, app_test, \"imputer(no features)\", \"scaler(no features)\")\n",
    "print(\"Échantillonnage : train = 80% | test = 20%\")\n",
    "X_train, X_test, y_train, y_test = echantillonage(train, app_train[\"TARGET\"])\n",
    "print(\"X_train shape :\", X_train.shape)\n",
    "print(\"X_test shape :\", X_test.shape)\n",
    "print(\"\")\n",
    "\n",
    "\n",
    "app_train_domain.drop(columns=\"SK_ID_CURR\", inplace=True)\n",
    "app_test_domain.drop(columns=\"SK_ID_CURR\", inplace=True)\n",
    "\n",
    "print(\"Preprocessing avec features métier\")\n",
    "train_domain, test_domain = preprocesseur(app_train_domain, app_test_domain, \"imputer\", \"scaler\")\n",
    "print(\"Échantillonnage : train = 80% | test = 20%\")\n",
    "X_train_domain, X_test_domain, y_train_domain, y_test_domain = echantillonage(train_domain, app_train[\"TARGET\"])\n",
    "print(\"X_train shape :\", X_train_domain.shape)\n",
    "print(\"X_test shape :\", X_test_domain.shape)\n"
   ],
   "metadata": {
    "collapsed": false,
    "pycharm": {
     "name": "#%%\n"
    }
   }
  },
  {
   "cell_type": "markdown",
   "source": [
    "# Modélisation 1 - Logistic Regression"
   ],
   "metadata": {
    "collapsed": false,
    "pycharm": {
     "name": "#%% md\n"
    }
   }
  },
  {
   "cell_type": "markdown",
   "source": [
    "## Hypothèse 1 : Pas de feature engineering"
   ],
   "metadata": {
    "collapsed": false,
    "pycharm": {
     "name": "#%% md\n"
    }
   }
  },
  {
   "cell_type": "code",
   "execution_count": null,
   "outputs": [],
   "source": [
    "# On crée le dataframe de résultats\n",
    "df_results_base = pd.DataFrame(y_test.values, columns=[\"y_true\"], index=y_test.index)\n",
    "\n",
    "# On lance les prédictions\n",
    "log_reg_pred = log_reg(X_train, y_train, y_test, X_test)\n",
    "\n",
    "# On enregistre les résultats\n",
    "df_results_base = save_results(df_results_base, log_reg_pred, \"y_pred_lr\", y_test)\n",
    "\n",
    "# On \"binarise\" les probabilités avec un treshold parametré à 0.5\n",
    "# Par exemple, pour un treshold de 0.5, si la probabilité en est inférieure la valeur sera de 0. Sinon elle sera de 1.\n",
    "# Et on concatène les données à notre tableau de résultats\n",
    "df_results_base[\"y_pred_lr_bin\"] = transform_treshold(df_results_base[\"y_pred_lr\"], 0.5)\n",
    "\n",
    "display(df_results_base.head())\n",
    "print(df_results_base.shape)"
   ],
   "metadata": {
    "collapsed": false,
    "pycharm": {
     "name": "#%%\n"
    }
   }
  },
  {
   "cell_type": "markdown",
   "source": [
    "## Hypothèse 2 : avec les features métier"
   ],
   "metadata": {
    "collapsed": false,
    "pycharm": {
     "name": "#%% md\n"
    }
   }
  },
  {
   "cell_type": "code",
   "execution_count": null,
   "outputs": [],
   "source": [
    "# On crée le dataframe de résultats\n",
    "df_results_base_domain = pd.DataFrame(y_test_domain.values, columns=[\"y_true\"], index=y_test_domain.index)\n",
    "\n",
    "# On lance les prédictions\n",
    "log_reg_pred = log_reg(X_train_domain, y_train_domain, y_test_domain, X_test_domain)\n",
    "\n",
    "# On enregistre les résultats\n",
    "df_results_base_domain = save_results(df_results_base_domain, log_reg_pred, \"y_pred_lr_domain\", y_test_domain)\n",
    "\n",
    "# On \"binarise\" les probabilités avec un treshold parametré à 0.5\n",
    "# Par exemple, pour un treshold de 0.5, si la probabilité en est inférieure la valeur sera de 0. Sinon elle sera de 1.\n",
    "# Et on concatène les données à notre tableau de résultats\n",
    "df_results_base_domain[\"y_pred_lr_domain_bin\"] = transform_treshold(df_results_base_domain[\"y_pred_lr_domain\"], 0.5)\n",
    "\n",
    "display(df_results_base_domain.head())\n",
    "print(df_results_base_domain.shape)"
   ],
   "metadata": {
    "collapsed": false,
    "pycharm": {
     "name": "#%%\n"
    }
   }
  },
  {
   "cell_type": "markdown",
   "source": [
    "## Matrice de confusion"
   ],
   "metadata": {
    "collapsed": false,
    "pycharm": {
     "name": "#%% md\n"
    }
   }
  },
  {
   "cell_type": "code",
   "execution_count": null,
   "outputs": [],
   "source": [
    "aff_confusion_matrix(df_results_base[\"y_true\"], df_results_base[\"y_pred_lr_bin\"])\n",
    "\n",
    "aff_confusion_matrix(df_results_base_domain[\"y_true\"], df_results_base_domain[\"y_pred_lr_domain_bin\"])"
   ],
   "metadata": {
    "collapsed": false,
    "pycharm": {
     "name": "#%%\n"
    }
   }
  },
  {
   "cell_type": "code",
   "execution_count": null,
   "outputs": [],
   "source": [
    "df_metrics_base = pd.DataFrame(columns=[\"Accuracy\", \"Precision\", \"Recall\", \"F1_score\"], index=[\"sans_feat_eng\", \"domain_feat\"])\n",
    "\n",
    "df_metrics_base[\"Accuracy\"][0] = round(accuracy_score(df_results_base[\"y_true\"], df_results_base.iloc[:, 2]), 2)\n",
    "df_metrics_base[\"Precision\"][0] = round(precision_score(df_results_base[\"y_true\"], df_results_base.iloc[:, 2]), 2)\n",
    "df_metrics_base[\"Recall\"][0] = round(recall_score(df_results_base[\"y_true\"], df_results_base.iloc[:, 2]), 2)\n",
    "df_metrics_base[\"F1_score\"][0] = round(f1_score(df_results_base[\"y_true\"], df_results_base.iloc[:, 2]), 2)\n",
    "\n",
    "df_metrics_base[\"Accuracy\"][1] = round(accuracy_score(df_results_base_domain[\"y_true\"], df_results_base_domain.iloc[:, 2]), 2)\n",
    "df_metrics_base[\"Precision\"][1] = round(precision_score(df_results_base_domain[\"y_true\"], df_results_base_domain.iloc[:, 2]), 2)\n",
    "df_metrics_base[\"Recall\"][1] = round(recall_score(df_results_base_domain[\"y_true\"], df_results_base_domain.iloc[:, 2]), 2)\n",
    "df_metrics_base[\"F1_score\"][1] = round(f1_score(df_results_base_domain[\"y_true\"], df_results_base_domain.iloc[:, 2]), 2)\n",
    "\n",
    "df_metrics_base"
   ],
   "metadata": {
    "collapsed": false,
    "pycharm": {
     "name": "#%%\n"
    }
   }
  },
  {
   "cell_type": "markdown",
   "source": [
    "# Modélisation 2 - avec resampling"
   ],
   "metadata": {
    "collapsed": false,
    "pycharm": {
     "name": "#%% md\n"
    }
   }
  },
  {
   "cell_type": "code",
   "execution_count": null,
   "outputs": [],
   "source": [
    "print(\"Rappel du deséquilibre des classes\")\n",
    "\n",
    "percent0 = (y_train.value_counts()[0] / y_train.shape) * 100\n",
    "percent1 = (y_train.value_counts()[1] / y_train.shape) * 100\n",
    "\n",
    "print(\"Nombre d'individus pour la classe 0 :\", y_train.value_counts()[0], \". Soit\", percent0, \"% de la population.\")\n",
    "print(\"Nombre d'individus pour la classe 1 :\", y_train.value_counts()[1], \". Soit\", percent1, \"% de la population.\")"
   ],
   "metadata": {
    "collapsed": false,
    "pycharm": {
     "name": "#%%\n"
    }
   }
  },
  {
   "cell_type": "code",
   "execution_count": null,
   "outputs": [],
   "source": [
    "target_count = y_train.value_counts()\n",
    "print('Class 0:', target_count[0])\n",
    "print('Class 1:', target_count[1])\n",
    "print('Proportion:', round(target_count[0] / target_count[1], 2), ': 1')\n",
    "\n",
    "plt.figure(figsize=(8,8))\n",
    "\n",
    "plt.pie(target_count, explode=[0, 0.1], labels=[\"Classe 0\", \"Classe 1\"], autopct='%1.1f%%',\n",
    "        shadow=True, startangle=90)"
   ],
   "metadata": {
    "collapsed": false,
    "pycharm": {
     "name": "#%%\n"
    }
   }
  },
  {
   "cell_type": "markdown",
   "source": [
    "## Hypothèse 1 : Pas de feature engineering"
   ],
   "metadata": {
    "collapsed": false,
    "pycharm": {
     "name": "#%% md\n"
    }
   }
  },
  {
   "cell_type": "code",
   "execution_count": null,
   "outputs": [],
   "source": [
    "%%time\n",
    "\n",
    "print(\"Preprocessing\")\n",
    "train, test = preprocesseur(app_train, app_test, \"imputer(no features)\", \"scaler(no features)\")\n",
    "\n",
    "print(\"Resampling\")\n",
    "smt = RandomUnderSampler()\n",
    "X_smt, y_smt = smt.fit_resample(train, app_train[\"TARGET\"])\n",
    "\n",
    "print('Original dataset shape %s' % Counter(app_train[\"TARGET\"]))\n",
    "print('Resampled dataset shape %s' % Counter(y_smt))"
   ],
   "metadata": {
    "collapsed": false,
    "pycharm": {
     "name": "#%%\n"
    }
   }
  },
  {
   "cell_type": "markdown",
   "source": [
    "## Hypothèse 2 : Avec les features métier\n"
   ],
   "metadata": {
    "collapsed": false,
    "pycharm": {
     "name": "#%% md\n"
    }
   }
  },
  {
   "cell_type": "code",
   "execution_count": null,
   "outputs": [],
   "source": [
    "%%time\n",
    "\n",
    "print(\"Preprocessing\")\n",
    "train_domain, test_domain = preprocesseur(app_train_domain, app_test_domain, \"imputer\", \"scaler\")\n",
    "\n",
    "print(\"Resampling\")\n",
    "X_smt_domain, y_smt_domain = smt.fit_resample(train_domain, app_train[\"TARGET\"])\n",
    "\n",
    "print('Original dataset shape %s' % Counter(app_train[\"TARGET\"]))\n",
    "print('Resampled dataset shape %s' % Counter(y_smt_domain))"
   ],
   "metadata": {
    "collapsed": false,
    "pycharm": {
     "name": "#%%\n"
    }
   }
  },
  {
   "cell_type": "code",
   "execution_count": null,
   "outputs": [],
   "source": [
    "target_count = y_smt.value_counts()\n",
    "print('Class 0:', target_count[0])\n",
    "print('Class 1:', target_count[1])\n",
    "print('Proportion:', round(target_count[0] / target_count[1], 2), ': 1')\n",
    "\n",
    "plt.figure(figsize=(8,8))\n",
    "\n",
    "plt.pie(target_count, explode=[0, 0.1], labels=[\"Classe 0\", \"Classe 1\"], autopct='%1.1f%%',\n",
    "        shadow=True, startangle=90)"
   ],
   "metadata": {
    "collapsed": false,
    "pycharm": {
     "name": "#%%\n"
    }
   }
  },
  {
   "cell_type": "markdown",
   "source": [
    "## Analyse de la baseline après rééquilibrage\n"
   ],
   "metadata": {
    "collapsed": false,
    "pycharm": {
     "name": "#%% md\n"
    }
   }
  },
  {
   "cell_type": "code",
   "execution_count": null,
   "outputs": [],
   "source": [
    "# On crée le dataframe de résultats\n",
    "df_results_base = pd.DataFrame(y_test.values, columns=[\"y_true\"], index=y_test.index)\n",
    "\n",
    "# On lance les prédictions\n",
    "log_reg_pred = log_reg(X_smt, y_smt, y_test, X_test)\n",
    "\n",
    "# On enregistre les résultats\n",
    "df_results_base = save_results(df_results_base, log_reg_pred, \"y_pred_lr\", y_test)\n",
    "\n",
    "# On \"binarise\" les probabilités avec un treshold parametré à 0.5\n",
    "# Par exemple, pour un treshold de 0.5, si la probabilité en est inférieure la valeur sera de 0. Sinon elle sera de 1.\n",
    "# Et on concatène les données à notre tableau de résultats\n",
    "df_results_base[\"y_pred_lr_bin\"] = transform_treshold(df_results_base[\"y_pred_lr\"], 0.5)\n",
    "\n",
    "display(df_results_base.head())\n",
    "print(df_results_base.shape)"
   ],
   "metadata": {
    "collapsed": false,
    "pycharm": {
     "name": "#%%\n"
    }
   }
  },
  {
   "cell_type": "code",
   "execution_count": null,
   "outputs": [],
   "source": [
    "# On crée le dataframe de résultats\n",
    "df_results_base_domain = pd.DataFrame(y_test_domain.values, columns=[\"y_true\"], index=y_test_domain.index)\n",
    "\n",
    "# On lance les prédictions\n",
    "log_reg_pred = log_reg(X_smt_domain, y_smt_domain, y_test_domain, X_test_domain)\n",
    "\n",
    "# On enregistre les résultats\n",
    "df_results_base_domain = save_results(df_results_base_domain, log_reg_pred, \"y_pred_lr_domain\", y_test_domain)\n",
    "\n",
    "# On \"binarise\" les probabilités avec un treshold parametré à 0.5\n",
    "# Par exemple, pour un treshold de 0.5, si la probabilité en est inférieure la valeur sera de 0. Sinon elle sera de 1.\n",
    "# Et on concatène les données à notre tableau de résultats\n",
    "df_results_base_domain[\"y_pred_lr_domain_bin\"] = transform_treshold(df_results_base_domain[\"y_pred_lr_domain\"], 0.5)\n",
    "\n",
    "display(df_results_base_domain.head())\n",
    "print(df_results_base_domain.shape)"
   ],
   "metadata": {
    "collapsed": false,
    "pycharm": {
     "name": "#%%\n"
    }
   }
  },
  {
   "cell_type": "code",
   "execution_count": null,
   "outputs": [],
   "source": [
    "aff_confusion_matrix(df_results_base[\"y_true\"], df_results_base[\"y_pred_lr_bin\"])\n",
    "\n",
    "aff_confusion_matrix(df_results_base_domain[\"y_true\"], df_results_base_domain[\"y_pred_lr_domain_bin\"])"
   ],
   "metadata": {
    "collapsed": false,
    "pycharm": {
     "name": "#%%\n"
    }
   }
  },
  {
   "cell_type": "code",
   "execution_count": null,
   "outputs": [],
   "source": [
    "df_metrics_base = pd.DataFrame(columns=[\"Accuracy\", \"Precision\", \"Recall\", \"F1_score\"], index=[\"sans_feat_eng\", \"domain_feat\"])\n",
    "\n",
    "df_metrics_base[\"Accuracy\"][0] = round(accuracy_score(df_results_base[\"y_true\"], df_results_base.iloc[:, 2]), 2)\n",
    "df_metrics_base[\"Precision\"][0] = round(precision_score(df_results_base[\"y_true\"], df_results_base.iloc[:, 2]), 2)\n",
    "df_metrics_base[\"Recall\"][0] = round(recall_score(df_results_base[\"y_true\"], df_results_base.iloc[:, 2]), 2)\n",
    "df_metrics_base[\"F1_score\"][0] = round(f1_score(df_results_base[\"y_true\"], df_results_base.iloc[:, 2]), 2)\n",
    "\n",
    "\n",
    "df_metrics_base[\"Accuracy\"][1] = round(accuracy_score(df_results_base_domain[\"y_true\"], df_results_base_domain.iloc[:, 2]), 2)\n",
    "df_metrics_base[\"Precision\"][1] = round(precision_score(df_results_base_domain[\"y_true\"], df_results_base_domain.iloc[:, 2]), 2)\n",
    "df_metrics_base[\"Recall\"][1] = round(recall_score(df_results_base_domain[\"y_true\"], df_results_base_domain.iloc[:, 2]), 2)\n",
    "df_metrics_base[\"F1_score\"][1] = round(f1_score(df_results_base_domain[\"y_true\"], df_results_base_domain.iloc[:, 2]), 2)\n",
    "\n",
    "df_metrics_base"
   ],
   "metadata": {
    "collapsed": false,
    "pycharm": {
     "name": "#%%\n"
    }
   }
  },
  {
   "cell_type": "markdown",
   "source": [
    "## Test de différents modèles"
   ],
   "metadata": {
    "collapsed": false,
    "pycharm": {
     "name": "#%% md\n"
    }
   }
  },
  {
   "cell_type": "markdown",
   "source": [
    "On va tester 3 différents modèles : Régression logistique, RandomForestClassifier et XGBoost"
   ],
   "metadata": {
    "collapsed": false,
    "pycharm": {
     "name": "#%% md\n"
    }
   }
  },
  {
   "cell_type": "code",
   "execution_count": null,
   "outputs": [],
   "source": [
    "from sklearn.linear_model import LogisticRegression\n",
    "from sklearn.ensemble import RandomForestClassifier\n",
    "import xgboost as xgb"
   ],
   "metadata": {
    "collapsed": false,
    "pycharm": {
     "name": "#%%\n"
    }
   }
  },
  {
   "cell_type": "code",
   "execution_count": null,
   "outputs": [],
   "source": [
    "df_results = pd.DataFrame(y_test_domain.values, columns=[\"y_true\"], index=y_test_domain.index)"
   ],
   "metadata": {
    "collapsed": false,
    "pycharm": {
     "name": "#%%\n"
    }
   }
  },
  {
   "cell_type": "markdown",
   "source": [
    "## Régression logistique"
   ],
   "metadata": {
    "collapsed": false,
    "pycharm": {
     "name": "#%% md\n"
    }
   }
  },
  {
   "cell_type": "code",
   "execution_count": null,
   "outputs": [],
   "source": [
    "%%time\n",
    "\n",
    "# Création du modèle avec les paramètres spécifiés\n",
    "clf_lr = LogisticRegression(C=10)\n",
    "\n",
    "# Entraînement sur le training data\n",
    "clf_lr.fit(X_smt_domain, y_smt_domain)\n",
    "\n",
    "# Prédictions\n",
    "# On choisit uniquement la deuxième colonne\n",
    "lr_pred_smoted = clf_lr.predict_proba(X_test_domain)[:, 1]\n",
    "\n",
    "# Dataframe de résultats\n",
    "df_results[\"y_pred_lr_smoted\"] = lr_pred_smoted\n",
    "\n",
    "df_results.head()"
   ],
   "metadata": {
    "collapsed": false,
    "pycharm": {
     "name": "#%%\n"
    }
   }
  },
  {
   "cell_type": "markdown",
   "source": [
    "Une fois que les probabilités de chaque ligne ont été ajoutées au tableau, nous allons les transformer en binaire avec la fonction treshold.\n",
    "\n",
    "Nous allons paramétrer le treshold sur 0.5."
   ],
   "metadata": {
    "collapsed": false,
    "pycharm": {
     "name": "#%% md\n"
    }
   }
  },
  {
   "cell_type": "code",
   "execution_count": null,
   "outputs": [],
   "source": [
    "df_results[\"y_pred_lr_smoted_bin\"] = transform_treshold(df_results[\"y_pred_lr_smoted\"], 0.5)\n",
    "\n",
    "df_results.head()"
   ],
   "metadata": {
    "collapsed": false,
    "pycharm": {
     "name": "#%%\n"
    }
   }
  },
  {
   "cell_type": "markdown",
   "source": [
    "## Random Forest"
   ],
   "metadata": {
    "collapsed": false,
    "pycharm": {
     "name": "#%% md\n"
    }
   }
  },
  {
   "cell_type": "code",
   "execution_count": null,
   "outputs": [],
   "source": [
    "%%time\n",
    "\n",
    "# Création du modèle avec les paramètres spécifiés\n",
    "clf_rf = RandomForestClassifier(n_estimators=1000,\n",
    "                                max_depth=10\n",
    "                               )\n",
    "\n",
    "# Entraînement sur le training data\n",
    "clf_rf.fit(X_smt_domain, y_smt_domain)\n",
    "\n",
    "# Prédictions\n",
    "# On choisit uniquement la deuxième colonne\n",
    "rf_pred_smoted = clf_rf.predict_proba(X_test_domain)[:, 1]\n",
    "\n",
    "# Dataframe de résultats\n",
    "df_results[\"y_pred_rf_smoted\"] = rf_pred_smoted\n",
    "\n",
    "df_results.head()"
   ],
   "metadata": {
    "collapsed": false,
    "pycharm": {
     "name": "#%%\n"
    }
   }
  },
  {
   "cell_type": "code",
   "execution_count": null,
   "outputs": [],
   "source": [
    "df_results[\"y_pred_rf_smoted_bin\"] = transform_treshold(df_results[\"y_pred_rf_smoted\"], 0.5)\n",
    "\n",
    "df_results.head()"
   ],
   "metadata": {
    "collapsed": false,
    "pycharm": {
     "name": "#%%\n"
    }
   }
  },
  {
   "cell_type": "markdown",
   "source": [
    "## XGBoost"
   ],
   "metadata": {
    "collapsed": false,
    "pycharm": {
     "name": "#%% md\n"
    }
   }
  },
  {
   "cell_type": "code",
   "execution_count": null,
   "outputs": [],
   "source": [
    "clf_xgb = xgb.XGBClassifier(objective=\"binary:logistic\",\n",
    "                            random_state=0)\n",
    "\n",
    "clf_xgb.fit(X_smt_domain, y_smt_domain)\n",
    "\n",
    "# Prédictions\n",
    "# On choisit uniquement la deuxième colonne\n",
    "xgb_pred_smoted = clf_xgb.predict_proba(X_test_domain)[:, 1]\n",
    "\n",
    "# Dataframe de résultats\n",
    "df_results[\"y_pred_xgb_smoted\"] = xgb_pred_smoted\n",
    "\n",
    "df_results.head()"
   ],
   "metadata": {
    "collapsed": false,
    "pycharm": {
     "name": "#%%\n"
    }
   }
  },
  {
   "cell_type": "code",
   "execution_count": null,
   "outputs": [],
   "source": [
    "df_results[\"y_pred_xgb_smoted_bin\"] = transform_treshold(df_results[\"y_pred_xgb_smoted\"], 0.5)\n",
    "\n",
    "df_results.head()"
   ],
   "metadata": {
    "collapsed": false,
    "pycharm": {
     "name": "#%%\n"
    }
   }
  },
  {
   "cell_type": "markdown",
   "source": [
    "## Analyse des résultats"
   ],
   "metadata": {
    "collapsed": false,
    "pycharm": {
     "name": "#%% md\n"
    }
   }
  },
  {
   "cell_type": "markdown",
   "source": [
    "## Matrice de confusion"
   ],
   "metadata": {
    "collapsed": false,
    "pycharm": {
     "name": "#%% md\n"
    }
   }
  },
  {
   "cell_type": "markdown",
   "source": [
    "Analysons la matrice de confusion de chaque modèle pour visualiser le nombre de TN, FN, TP, FN."
   ],
   "metadata": {
    "collapsed": false,
    "pycharm": {
     "name": "#%% md\n"
    }
   }
  },
  {
   "cell_type": "code",
   "execution_count": null,
   "outputs": [],
   "source": [
    "print(\"Matrice confusion régression logistique\")\n",
    "aff_confusion_matrix(df_results[\"y_true\"], df_results[\"y_pred_lr_smoted_bin\"])\n",
    "\n",
    "print(\"Matrice confusion random forest\")\n",
    "aff_confusion_matrix(df_results[\"y_true\"], df_results[\"y_pred_rf_smoted_bin\"])\n",
    "\n",
    "print(\"Matrice confusion XGBoost\")\n",
    "aff_confusion_matrix(df_results[\"y_true\"], df_results[\"y_pred_xgb_smoted_bin\"])"
   ],
   "metadata": {
    "collapsed": false,
    "pycharm": {
     "name": "#%%\n"
    }
   }
  },
  {
   "cell_type": "markdown",
   "source": [
    "## Accuracy, Precision, Recall, F1 Score"
   ],
   "metadata": {
    "collapsed": false,
    "pycharm": {
     "name": "#%% md\n"
    }
   }
  },
  {
   "cell_type": "markdown",
   "source": [
    "Nous allons mesurer différentes métriques pour bien comprendre les classifieurs :\n",
    "\n",
    "    L'accuracy : Nous avons vu ici que l'accuracy ne signifait pas grand chose.\n",
    "    La précision : Ce coefficient détermine que, quand le classifieur déclare que la prédiction est un 1, il a raison à X%.\n",
    "    Le rappel : Ce coefficient détermine le pourcentage de détection des 1 du classifieur.\n",
    "    Le F1-score : Ce coefficient est une moyenne de la précision et du rappel, mais, de part sa formule il donne plus de poids aux faibles valeurs."
   ],
   "metadata": {
    "collapsed": false,
    "pycharm": {
     "name": "#%% md\n"
    }
   }
  },
  {
   "cell_type": "code",
   "execution_count": null,
   "outputs": [],
   "source": [
    "from sklearn.metrics import accuracy_score\n",
    "from sklearn.metrics import precision_score\n",
    "from sklearn.metrics import recall_score\n",
    "from sklearn.metrics import f1_score\n",
    "\n",
    "nb_models = 3\n",
    "\n",
    "df_metrics = pd.DataFrame(columns=[\"Accuracy\", \"Precision\", \"Recall\", \"F1_score\"], index=[\"Logistic regression\", \"Random Forest\", \"XGBoost\"])\n",
    "\n",
    "# j=2 représente la 2ème colonne du dataframe df_results\n",
    "# on cible les colonnes de valeurs prédites avec cette variable\n",
    "j = 2\n",
    "\n",
    "for i in np.arange(0, nb_models):\n",
    "\n",
    "    df_metrics[\"Accuracy\"][i] = round(accuracy_score(df_results[\"y_true\"], df_results.iloc[:, j]), 2)\n",
    "    df_metrics[\"Precision\"][i] = round(precision_score(df_results[\"y_true\"], df_results.iloc[:, j]), 2)\n",
    "    df_metrics[\"Recall\"][i] = round(recall_score(df_results[\"y_true\"], df_results.iloc[:, j]), 2)\n",
    "    df_metrics[\"F1_score\"][i] = round(f1_score(df_results[\"y_true\"], df_results.iloc[:, j]), 2)\n",
    "\n",
    "    j += 2\n",
    "\n",
    "df_metrics"
   ],
   "metadata": {
    "collapsed": false,
    "pycharm": {
     "name": "#%%\n"
    }
   }
  },
  {
   "cell_type": "markdown",
   "source": [
    "## Courbe Receiver Operating Characteristic (ROC) et Area Under the Curve (AUC)"
   ],
   "metadata": {
    "collapsed": false,
    "pycharm": {
     "name": "#%% md\n"
    }
   }
  },
  {
   "cell_type": "markdown",
   "source": [
    "La courbe ROC est un outil communément utilisé avec les classifieurs binaires. Elle croise le taux de TP avec le taux de FP. Le taux de FP est le pourcentage d'observations négatives qui sont incorrectement classées comme positives. Il est égal à 1 moins le taux de TN, qui est le pourcentage d'observations négatives qui sont correctement classées comme négatives. Le taux de FN est aussi appelé spécificité. Par conséquent la courbe ROC croise sensibilité (ou rappel) et 1-spécificité.\n",
    "\n",
    "La meilleure courbe ROC, est celle qui passe le plus dans le coin supérieur gauche du graphique.\n",
    "\n",
    "Le score AUC est une façon de comparer des classificateurs. Un classificateur parfait aurait une aire sous la courbe ROC égale à 1, tandis qu'un classificateur purement aléatoire aurait une ROC AUC de 0.5."
   ],
   "metadata": {
    "collapsed": false,
    "pycharm": {
     "name": "#%% md\n"
    }
   }
  },
  {
   "cell_type": "code",
   "execution_count": null,
   "outputs": [],
   "source": [
    "from sklearn.metrics import roc_curve\n",
    "\n",
    "fp_lr, tp_lr, treshold_lr = roc_curve(y_test_domain, lr_pred_smoted)\n",
    "fp_rf, tp_rf, treshold_rf = roc_curve(y_test_domain, rf_pred_smoted)\n",
    "fp_xgb, tp_xgb, treshold_xgb = roc_curve(y_test_domain, xgb_pred_smoted)"
   ],
   "metadata": {
    "collapsed": false,
    "pycharm": {
     "name": "#%%\n"
    }
   }
  },
  {
   "cell_type": "code",
   "execution_count": null,
   "outputs": [],
   "source": [
    "from sklearn.metrics import roc_auc_score\n",
    "\n",
    "auc_score_lr = roc_auc_score(y_test_domain, lr_pred_smoted)\n",
    "auc_score_rf = roc_auc_score(y_test_domain, rf_pred_smoted)\n",
    "auc_score_xgb = roc_auc_score(y_test_domain, xgb_pred_smoted)\n",
    "\n",
    "lst_auc_score = [(\"Logistic Regression\", auc_score_lr),\n",
    "                (\"Random Forest\", auc_score_rf),\n",
    "                (\"XGBoost\", auc_score_xgb)]"
   ],
   "metadata": {
    "collapsed": false,
    "pycharm": {
     "name": "#%%\n"
    }
   }
  },
  {
   "cell_type": "code",
   "execution_count": null,
   "outputs": [],
   "source": [
    "plt.figure(figsize=(20,10))\n",
    "\n",
    "\n",
    "plt.subplot(1, 2, 1)\n",
    "\n",
    "plt.plot(fp_lr, tp_lr, label=\"Logistic Regression\")\n",
    "plt.plot(fp_rf, tp_rf, label=\"Random Forest\")\n",
    "plt.plot(fp_xgb, tp_xgb, label=\"XGBoost\")\n",
    "plt.legend(loc = 'lower right')\n",
    "plt.plot([0, 1], [0, 1],'r--')\n",
    "plt.xlim([0, 1.1])\n",
    "plt.ylim([0, 1.1])\n",
    "plt.ylabel('True Positive Rate')\n",
    "plt.xlabel('False Positive Rate')\n",
    "\n",
    "\n",
    "plt.subplot(1, 2, 2)\n",
    "\n",
    "plt.style.use('fivethirtyeight')\n",
    "\n",
    "labels, ys = zip(*lst_auc_score)\n",
    "\n",
    "xs = np.arange(len(labels))\n",
    "\n",
    "width = 0.4\n",
    "\n",
    "plt.bar(xs, ys, width, align='center')\n",
    "\n",
    "plt.xlabel(\"AUC Score\")\n",
    "plt.xticks(xs, labels, rotation=45) #Replace default x-ticks with xs, then replace xs with labels\n",
    "plt.yticks(ys)\n",
    "plt.show()"
   ],
   "metadata": {
    "collapsed": false,
    "pycharm": {
     "name": "#%%\n"
    }
   }
  },
  {
   "cell_type": "code",
   "execution_count": null,
   "outputs": [],
   "source": [
    "# Dataframe des features importance\n",
    "feature_importances = pd.DataFrame({'feature': app_test_domain.columns, 'importance': clf_rf.feature_importances_})\n",
    "\n",
    "fi_sorted = plot_feature_importances(feature_importances)"
   ],
   "metadata": {
    "collapsed": false,
    "pycharm": {
     "name": "#%%\n"
    }
   }
  },
  {
   "cell_type": "markdown",
   "source": [
    "## Conclusion sur modeling"
   ],
   "metadata": {
    "collapsed": false,
    "pycharm": {
     "name": "#%% md\n"
    }
   }
  },
  {
   "cell_type": "markdown",
   "source": [
    "Le modèle XGBoost semble donner les meilleurs résultats.\n",
    "\n",
    "On va essayer d'optimiser les paramètres de celui-ci avant de sauvegarder le modèle pour utilisation dans notre API."
   ],
   "metadata": {
    "collapsed": false,
    "pycharm": {
     "name": "#%% md\n"
    }
   }
  },
  {
   "cell_type": "code",
   "execution_count": null,
   "outputs": [],
   "source": [
    "estimator = xgb.XGBClassifier(\n",
    "    objective= 'binary:logistic',\n",
    "    nthread=4,\n",
    "    seed=42\n",
    ")"
   ],
   "metadata": {
    "collapsed": false,
    "pycharm": {
     "name": "#%%\n"
    }
   }
  },
  {
   "cell_type": "code",
   "execution_count": null,
   "outputs": [],
   "source": [
    "parameters = {\n",
    "    'max_depth': range(2, 10, 1),\n",
    "    'n_estimators': range(60, 2000, 40),\n",
    "    'learning_rate': [0.1, 0.01, 0.05],\n",
    "    'colsample_bytree': [0.1, 0.01, 0.05],\n",
    "    'min_child_weight': range(1, 10, 1)\n",
    "}"
   ],
   "metadata": {
    "collapsed": false,
    "pycharm": {
     "name": "#%%\n"
    }
   }
  },
  {
   "cell_type": "code",
   "execution_count": null,
   "outputs": [],
   "source": [
    "grid_search = GridSearchCV(\n",
    "    estimator=estimator,\n",
    "    param_grid=parameters,\n",
    "    scoring = 'roc_auc',\n",
    "    n_jobs = 10,\n",
    "    cv = 10,\n",
    "    verbose=True\n",
    ")"
   ],
   "metadata": {
    "collapsed": false,
    "pycharm": {
     "name": "#%%\n"
    }
   }
  },
  {
   "cell_type": "code",
   "execution_count": null,
   "outputs": [],
   "source": [
    "grid_search.fit(X_train_domain, y_train_domain)"
   ],
   "metadata": {
    "collapsed": false,
    "pycharm": {
     "name": "#%%\n"
    }
   }
  },
  {
   "cell_type": "code",
   "execution_count": null,
   "outputs": [],
   "source": [
    "grid_search.best_estimator_"
   ],
   "metadata": {
    "collapsed": false,
    "pycharm": {
     "name": "#%%\n"
    }
   }
  },
  {
   "cell_type": "code",
   "execution_count": null,
   "outputs": [],
   "source": [
    "clf_xgb_o = xgb.XGBClassifier(booster='gbtree',\n",
    "                                colsample_bytree=0.6784538670198459,\n",
    "                                eval_metric='auc',\n",
    "                                learning_rate=0.10310087264740633,\n",
    "                                max_depth=6,\n",
    "                                min_child_weight=2,\n",
    "                                n_estimators=1144,\n",
    "                                objective='binary:logistic',\n",
    "                                random_state=0,\n",
    "                                subsample=0.4915549740714592,\n",
    "                                n_jobs=-1\n",
    "                                )\n",
    "\n",
    "clf_xgb_o.fit(X_smt_domain, y_smt_domain)\n",
    "model_final = clf_xgb_o.fit(X_smt_domain, y_smt_domain)\n",
    "joblib.dump(model_final, \"clf_xgb_o.pkl\")\n",
    "\n",
    "# Prédictions\n",
    "# On choisit uniquement la deuxième colonne\n",
    "xgb_o_pred_smoted = clf_xgb_o.predict_proba(X_test_domain)[:, 1]\n",
    "\n",
    "# Dataframe de résultats\n",
    "df_results[\"y_pred_xgb_o_smoted\"] = xgb_o_pred_smoted\n",
    "\n",
    "df_results.head()"
   ],
   "metadata": {
    "collapsed": false,
    "pycharm": {
     "name": "#%%\n"
    }
   }
  },
  {
   "cell_type": "code",
   "execution_count": null,
   "outputs": [],
   "source": [
    "print(model_final.get_booster().feature_names)"
   ],
   "metadata": {
    "collapsed": false,
    "pycharm": {
     "name": "#%%\n"
    }
   }
  },
  {
   "cell_type": "code",
   "execution_count": null,
   "outputs": [],
   "source": [
    "df_results[\"y_pred_xgb_o_smoted_bin\"] = transform_treshold(df_results[\"y_pred_xgb_o_smoted\"], 0.5)\n",
    "\n",
    "df_results.head()"
   ],
   "metadata": {
    "collapsed": false,
    "pycharm": {
     "name": "#%%\n"
    }
   }
  },
  {
   "cell_type": "code",
   "execution_count": null,
   "outputs": [],
   "source": [
    "nb_models = 4\n",
    "\n",
    "df_metrics = pd.DataFrame(columns=[\"Accuracy\", \"Precision\", \"Recall\", \"F1_score\"], index=[\"Logistic regression\", \"Random Forest\", \"XGBoost\",\"XGBoost_optimisé\"])\n",
    "\n",
    "# j=2 représente la 2ème colonne du dataframe df_results\n",
    "# on cible les colonnes de valeurs prédites avec cette variable\n",
    "j = 2\n",
    "\n",
    "for i in np.arange(0, nb_models):\n",
    "\n",
    "    df_metrics[\"Accuracy\"][i] = round(accuracy_score(df_results[\"y_true\"], df_results.iloc[:, j]), 2)\n",
    "    df_metrics[\"Precision\"][i] = round(precision_score(df_results[\"y_true\"], df_results.iloc[:, j]), 2)\n",
    "    df_metrics[\"Recall\"][i] = round(recall_score(df_results[\"y_true\"], df_results.iloc[:, j]), 2)\n",
    "    df_metrics[\"F1_score\"][i] = round(f1_score(df_results[\"y_true\"], df_results.iloc[:, j]), 2)\n",
    "\n",
    "    j += 2\n",
    "\n",
    "df_metrics"
   ],
   "metadata": {
    "collapsed": false,
    "pycharm": {
     "name": "#%%\n"
    }
   }
  },
  {
   "cell_type": "code",
   "execution_count": null,
   "outputs": [],
   "source": [
    "fp_xgb_o, tp_xgb_o, treshold_xgb_o = roc_curve(y_test_domain, xgb_o_pred_smoted)"
   ],
   "metadata": {
    "collapsed": false,
    "pycharm": {
     "name": "#%%\n"
    }
   }
  },
  {
   "cell_type": "code",
   "execution_count": null,
   "outputs": [],
   "source": [
    "auc_score_xgb_o = roc_auc_score(y_test_domain, xgb_o_pred_smoted)\n",
    "\n",
    "lst_auc_score = [(\"Logistic Regression\", auc_score_lr),\n",
    "                (\"Random Forest\", auc_score_rf),\n",
    "                (\"XGBoost\", auc_score_xgb),\n",
    "                (\"XGBoost_optimisé\", auc_score_xgb_o)]"
   ],
   "metadata": {
    "collapsed": false,
    "pycharm": {
     "name": "#%%\n"
    }
   }
  },
  {
   "cell_type": "code",
   "execution_count": null,
   "outputs": [],
   "source": [
    "plt.figure(figsize=(20,10))\n",
    "\n",
    "\n",
    "plt.subplot(1, 2, 1)\n",
    "\n",
    "plt.plot(fp_lr, tp_lr, label=\"Logistic Regression\")\n",
    "plt.plot(fp_rf, tp_rf, label=\"Random Forest\")\n",
    "plt.plot(fp_xgb, tp_xgb, label=\"XGBoost\")\n",
    "plt.plot(fp_xgb_o, tp_xgb_o, label=\"XGBoost optimisé\")\n",
    "plt.legend(loc = 'lower right')\n",
    "plt.plot([0, 1], [0, 1],'r--')\n",
    "plt.xlim([0, 1.1])\n",
    "plt.ylim([0, 1.1])\n",
    "plt.ylabel('True Positive Rate')\n",
    "plt.xlabel('False Positive Rate')\n",
    "\n",
    "\n",
    "plt.subplot(1, 2, 2)\n",
    "\n",
    "plt.style.use('fivethirtyeight')\n",
    "\n",
    "labels, ys = zip(*lst_auc_score)\n",
    "\n",
    "xs = np.arange(len(labels))\n",
    "\n",
    "width = 0.4\n",
    "\n",
    "plt.bar(xs, ys, width, align='center')\n",
    "\n",
    "plt.xlabel(\"AUC Score\")\n",
    "plt.xticks(xs, labels, rotation=45) #Replace default x-ticks with xs, then replace xs with labels\n",
    "plt.yticks(ys)\n",
    "plt.show()"
   ],
   "metadata": {
    "collapsed": false,
    "pycharm": {
     "name": "#%%\n"
    }
   }
  },
  {
   "cell_type": "markdown",
   "source": [
    "## Sauvegarde du modèle"
   ],
   "metadata": {
    "collapsed": false,
    "pycharm": {
     "name": "#%% md\n"
    }
   }
  },
  {
   "cell_type": "code",
   "execution_count": null,
   "outputs": [],
   "source": [
    "joblib.dump(clf_xgb_o, \"clf_xgb_o.pkl\")"
   ],
   "metadata": {
    "collapsed": false,
    "pycharm": {
     "name": "#%%\n"
    }
   }
  },
  {
   "cell_type": "code",
   "execution_count": 97,
   "outputs": [
    {
     "data": {
      "text/plain": "<Figure size 2000x1000 with 2 Axes>",
      "image/png": "[encoded data removed]"
     },
     "metadata": {},
     "output_type": "display_data"
    }
   ],
   "source": [
    "plt.figure(figsize=(20,10))\n",
    "\n",
    "\n",
    "plt.subplot(1, 2, 1)\n",
    "\n",
    "plt.plot(fp_lr, tp_lr, label=\"Logistic Regression\")\n",
    "plt.plot(fp_rf, tp_rf, label=\"Random Forest\")\n",
    "plt.plot(fp_xgb, tp_xgb, label=\"XGBoost\")\n",
    "plt.plot(fp_xgb_o, tp_xgb_o, label=\"XGBoost optimisé\")\n",
    "plt.legend(loc = 'lower right')\n",
    "plt.plot([0, 1], [0, 1],'r--')\n",
    "plt.xlim([0, 1.1])\n",
    "plt.ylim([0, 1.1])\n",
    "plt.ylabel('True Positive Rate')\n",
    "plt.xlabel('False Positive Rate')\n",
    "\n",
    "\n",
    "plt.subplot(1, 2, 2)\n",
    "\n",
    "plt.style.use('fivethirtyeight')\n",
    "\n",
    "labels, ys = zip(*lst_auc_score)\n",
    "\n",
    "xs = np.arange(len(labels))\n",
    "\n",
    "width = 0.4\n",
    "\n",
    "plt.bar(xs, ys, width, align='center')\n",
    "\n",
    "plt.xlabel(\"AUC Score\")\n",
    "plt.xticks(xs, labels, rotation=45) #Replace default x-ticks with xs, then replace xs with labels\n",
    "plt.yticks(ys)\n",
    "plt.show()"
   ],
   "metadata": {
    "collapsed": false,
    "pycharm": {
     "name": "#%%\n"
    }
   }
  },
  {
   "cell_type": "markdown",
   "source": [
    "## Sauvegarde du modèle"
   ],
   "metadata": {
    "collapsed": false,
    "pycharm": {
     "name": "#%% md\n"
    }
   }
  },
  {
   "cell_type": "code",
   "execution_count": 362,
   "outputs": [
    {
     "data": {
      "text/plain": "['clf_xgb_o.pkl']"
     },
     "execution_count": 362,
     "metadata": {},
     "output_type": "execute_result"
    }
   ],
   "source": [
    "joblib.dump(clf_xgb_o, \"clf_xgb_o.pkl\")"
   ],
   "metadata": {
    "collapsed": false,
    "pycharm": {
     "name": "#%%\n"
    }
   }
  }
 ],
 "metadata": {
  "colab": {
   "authorship_tag": "ABX9TyNDm8PwV6ckzekVRdtm1l+c",
   "collapsed_sections": [
    "NoRZZStegeKe",
    "mSDUNtxUrZwM",
    "dXXOoW-XhPv1",
    "uMt9Lauxqxx4",
    "yq-umrMBbRLw",
    "PiiwTsyyt23x",
    "52QCF85ksleZ",
    "RIFTmnIds6MS",
    "KsumViLts9tp",
    "HyxpMTiatB2Y",
    "rjlf7Ns4tHQ4",
    "fDgEweVhtMqg",
    "O9mynuKvtT0w",
    "Ghk8P2gutZjo",
    "amyTm-fyuOI_",
    "_6HE-b8_bzuS",
    "XJPI06S0weiB",
    "xZMCD0RGwjBM",
    "RjNYrcX3xUAa",
    "UVx2foIVy2V9",
    "K-7YpbFO0KQh",
    "PAsoLcfILAej",
    "qO9E-KygC4LS",
    "P10GQ_12dVfA",
    "TlNMpew9EnjL",
    "x2mhGpBaEsGN",
    "m1IMemccqv8H",
    "lkbyng7KBBU9",
    "dzVAJjJ6v-SK",
    "AKelHKP9DVPE",
    "8VD_mjipMipR",
    "3SfobH5Sterb",
    "GUz4FjTT2d2Q",
    "guhitPBW2qWZ",
    "gA2OCzLD3hdY",
    "WZn_Thtd4HBH"
   ],
   "mount_file_id": "1NuVXSHBc4Meh57_2JHOx08_cWtdjxkwE",
   "provenance": []
  },
  "kernelspec": {
   "display_name": "Python 3 (ipykernel)",
   "language": "python",
   "name": "python3"
  },
  "language_info": {
   "codemirror_mode": {
    "name": "ipython",
    "version": 3
   },
   "file_extension": ".py",
   "mimetype": "text/x-python",
   "name": "python",
   "nbconvert_exporter": "python",
   "pygments_lexer": "ipython3",
   "version": "3.9.7"
  }
 },
 "nbformat": 4,
 "nbformat_minor": 1
}