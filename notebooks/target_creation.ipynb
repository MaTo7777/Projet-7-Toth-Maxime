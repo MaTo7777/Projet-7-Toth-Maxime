{
 "cells": [
  {
   "cell_type": "code",
   "execution_count": 9,
   "metadata": {
    "collapsed": true,
    "pycharm": {
     "name": "#%%\n"
    }
   },
   "outputs": [],
   "source": [
    "import pandas as pd\n",
    "import numpy as np\n",
    "import joblib"
   ]
  },
  {
   "cell_type": "code",
   "execution_count": 29,
   "outputs": [],
   "source": [
    "df = pd.read_csv(r'C:\\Users\\tothm\\PycharmProjects\\Projet 7\\dashboard\\app_train_dashboard.csv')\n",
    "\n",
    "data = df.copy()"
   ],
   "metadata": {
    "collapsed": false,
    "pycharm": {
     "name": "#%%\n"
    }
   }
  },
  {
   "cell_type": "code",
   "execution_count": 3,
   "outputs": [
    {
     "data": {
      "text/plain": "   SK_ID_CURR  TARGET NAME_CONTRACT_TYPE CODE_GENDER FLAG_OWN_CAR  \\\n0      141617       0         Cash loans           F            N   \n1      263512       0         Cash loans           M            N   \n2      397087       0    Revolving loans           F            Y   \n3      316730       1         Cash loans           F            N   \n4      441436       0         Cash loans           F            N   \n\n  FLAG_OWN_REALTY  CNT_CHILDREN  AMT_INCOME_TOTAL  AMT_CREDIT  AMT_ANNUITY  \\\n0               Y             0          135000.0    808650.0      23773.5   \n1               Y             0          135000.0    254700.0      14751.0   \n2               Y             0          234000.0    720000.0      36000.0   \n3               N             2           67500.0    545040.0      25407.0   \n4               Y             1          225000.0    817560.0      29493.0   \n\n   ...  FLAG_DOCUMENT_18 FLAG_DOCUMENT_19 FLAG_DOCUMENT_20 FLAG_DOCUMENT_21  \\\n0  ...                 0                0                0                0   \n1  ...                 0                0                0                0   \n2  ...                 0                0                0                0   \n3  ...                 0                0                0                0   \n4  ...                 0                0                0                0   \n\n  AMT_REQ_CREDIT_BUREAU_HOUR AMT_REQ_CREDIT_BUREAU_DAY  \\\n0                        NaN                       NaN   \n1                        0.0                       0.0   \n2                        0.0                       0.0   \n3                        NaN                       NaN   \n4                        0.0                       1.0   \n\n   AMT_REQ_CREDIT_BUREAU_WEEK  AMT_REQ_CREDIT_BUREAU_MON  \\\n0                         NaN                        NaN   \n1                         0.0                        2.0   \n2                         0.0                        0.0   \n3                         NaN                        NaN   \n4                         1.0                        0.0   \n\n   AMT_REQ_CREDIT_BUREAU_QRT  AMT_REQ_CREDIT_BUREAU_YEAR  \n0                        NaN                         NaN  \n1                        0.0                         2.0  \n2                        2.0                         0.0  \n3                        NaN                         NaN  \n4                        0.0                         0.0  \n\n[5 rows x 122 columns]",
      "text/html": "<div>\n<style scoped>\n    .dataframe tbody tr th:only-of-type {\n        vertical-align: middle;\n    }\n\n    .dataframe tbody tr th {\n        vertical-align: top;\n    }\n\n    .dataframe thead th {\n        text-align: right;\n    }\n</style>\n<table border=\"1\" class=\"dataframe\">\n  <thead>\n    <tr style=\"text-align: right;\">\n      <th></th>\n      <th>SK_ID_CURR</th>\n      <th>TARGET</th>\n      <th>NAME_CONTRACT_TYPE</th>\n      <th>CODE_GENDER</th>\n      <th>FLAG_OWN_CAR</th>\n      <th>FLAG_OWN_REALTY</th>\n      <th>CNT_CHILDREN</th>\n      <th>AMT_INCOME_TOTAL</th>\n      <th>AMT_CREDIT</th>\n      <th>AMT_ANNUITY</th>\n      <th>...</th>\n      <th>FLAG_DOCUMENT_18</th>\n      <th>FLAG_DOCUMENT_19</th>\n      <th>FLAG_DOCUMENT_20</th>\n      <th>FLAG_DOCUMENT_21</th>\n      <th>AMT_REQ_CREDIT_BUREAU_HOUR</th>\n      <th>AMT_REQ_CREDIT_BUREAU_DAY</th>\n      <th>AMT_REQ_CREDIT_BUREAU_WEEK</th>\n      <th>AMT_REQ_CREDIT_BUREAU_MON</th>\n      <th>AMT_REQ_CREDIT_BUREAU_QRT</th>\n      <th>AMT_REQ_CREDIT_BUREAU_YEAR</th>\n    </tr>\n  </thead>\n  <tbody>\n    <tr>\n      <th>0</th>\n      <td>141617</td>\n      <td>0</td>\n      <td>Cash loans</td>\n      <td>F</td>\n      <td>N</td>\n      <td>Y</td>\n      <td>0</td>\n      <td>135000.0</td>\n      <td>808650.0</td>\n      <td>23773.5</td>\n      <td>...</td>\n      <td>0</td>\n      <td>0</td>\n      <td>0</td>\n      <td>0</td>\n      <td>NaN</td>\n      <td>NaN</td>\n      <td>NaN</td>\n      <td>NaN</td>\n      <td>NaN</td>\n      <td>NaN</td>\n    </tr>\n    <tr>\n      <th>1</th>\n      <td>263512</td>\n      <td>0</td>\n      <td>Cash loans</td>\n      <td>M</td>\n      <td>N</td>\n      <td>Y</td>\n      <td>0</td>\n      <td>135000.0</td>\n      <td>254700.0</td>\n      <td>14751.0</td>\n      <td>...</td>\n      <td>0</td>\n      <td>0</td>\n      <td>0</td>\n      <td>0</td>\n      <td>0.0</td>\n      <td>0.0</td>\n      <td>0.0</td>\n      <td>2.0</td>\n      <td>0.0</td>\n      <td>2.0</td>\n    </tr>\n    <tr>\n      <th>2</th>\n      <td>397087</td>\n      <td>0</td>\n      <td>Revolving loans</td>\n      <td>F</td>\n      <td>Y</td>\n      <td>Y</td>\n      <td>0</td>\n      <td>234000.0</td>\n      <td>720000.0</td>\n      <td>36000.0</td>\n      <td>...</td>\n      <td>0</td>\n      <td>0</td>\n      <td>0</td>\n      <td>0</td>\n      <td>0.0</td>\n      <td>0.0</td>\n      <td>0.0</td>\n      <td>0.0</td>\n      <td>2.0</td>\n      <td>0.0</td>\n    </tr>\n    <tr>\n      <th>3</th>\n      <td>316730</td>\n      <td>1</td>\n      <td>Cash loans</td>\n      <td>F</td>\n      <td>N</td>\n      <td>N</td>\n      <td>2</td>\n      <td>67500.0</td>\n      <td>545040.0</td>\n      <td>25407.0</td>\n      <td>...</td>\n      <td>0</td>\n      <td>0</td>\n      <td>0</td>\n      <td>0</td>\n      <td>NaN</td>\n      <td>NaN</td>\n      <td>NaN</td>\n      <td>NaN</td>\n      <td>NaN</td>\n      <td>NaN</td>\n    </tr>\n    <tr>\n      <th>4</th>\n      <td>441436</td>\n      <td>0</td>\n      <td>Cash loans</td>\n      <td>F</td>\n      <td>N</td>\n      <td>Y</td>\n      <td>1</td>\n      <td>225000.0</td>\n      <td>817560.0</td>\n      <td>29493.0</td>\n      <td>...</td>\n      <td>0</td>\n      <td>0</td>\n      <td>0</td>\n      <td>0</td>\n      <td>0.0</td>\n      <td>1.0</td>\n      <td>1.0</td>\n      <td>0.0</td>\n      <td>0.0</td>\n      <td>0.0</td>\n    </tr>\n  </tbody>\n</table>\n<p>5 rows × 122 columns</p>\n</div>"
     },
     "execution_count": 3,
     "metadata": {},
     "output_type": "execute_result"
    }
   ],
   "source": [
    "df.head()"
   ],
   "metadata": {
    "collapsed": false,
    "pycharm": {
     "name": "#%%\n"
    }
   }
  },
  {
   "cell_type": "code",
   "execution_count": 12,
   "outputs": [
    {
     "name": "stderr",
     "output_type": "stream",
     "text": [
      "C:\\Users\\tothm\\.virtualenvs\\Projet_7-_BujKIZF\\lib\\site-packages\\sklearn\\base.py:299: UserWarning: Trying to unpickle estimator SimpleImputer from version 1.2.0 when using version 1.2.1. This might lead to breaking code or invalid results. Use at your own risk. For more info please refer to:\n",
      "https://scikit-learn.org/stable/model_persistence.html#security-maintainability-limitations\n",
      "  warnings.warn(\n",
      "C:\\Users\\tothm\\.virtualenvs\\Projet_7-_BujKIZF\\lib\\site-packages\\sklearn\\base.py:299: UserWarning: Trying to unpickle estimator MinMaxScaler from version 1.2.0 when using version 1.2.1. This might lead to breaking code or invalid results. Use at your own risk. For more info please refer to:\n",
      "https://scikit-learn.org/stable/model_persistence.html#security-maintainability-limitations\n",
      "  warnings.warn(\n"
     ]
    }
   ],
   "source": [
    "with open('../model_weights/clf_xgb_o.pkl', 'rb') as f:\n",
    "    model = joblib.load(f)\n",
    "\n",
    "with open('../model_weights/imputer.pkl', 'rb') as f:\n",
    "    imputer = joblib.load(f)\n",
    "\n",
    "with open('../model_weights/colonnes_attendues.pkl', 'rb') as f:\n",
    "    colonnes_model = joblib.load(f)\n",
    "\n",
    "with open('../model_weights/scaler.pkl', 'rb') as f:\n",
    "    scaler = joblib.load(f)"
   ],
   "metadata": {
    "collapsed": false,
    "pycharm": {
     "name": "#%%\n"
    }
   }
  },
  {
   "cell_type": "code",
   "execution_count": 13,
   "outputs": [
    {
     "name": "stdout",
     "output_type": "stream",
     "text": [
      "Étape 3 réussie.\n",
      "Étape 4 réussie.\n",
      "Étape 5 réussie.\n",
      "Étape 6 réussie.\n",
      "Index(['NAME_CONTRACT_TYPE', 'FLAG_OWN_CAR', 'FLAG_OWN_REALTY', 'CNT_CHILDREN',\n",
      "       'AMT_INCOME_TOTAL', 'AMT_CREDIT', 'AMT_ANNUITY', 'AMT_GOODS_PRICE',\n",
      "       'REGION_POPULATION_RELATIVE', 'DAYS_BIRTH',\n",
      "       ...\n",
      "       'WALLSMATERIAL_MODE_Panel', 'WALLSMATERIAL_MODE_Stone, brick',\n",
      "       'WALLSMATERIAL_MODE_Wooden', 'EMERGENCYSTATE_MODE_No',\n",
      "       'EMERGENCYSTATE_MODE_Yes', 'DAYS_EMPLOYED_ANOM',\n",
      "       'CREDIT_INCOME_PERCENT', 'ANNUITY_INCOME_PERCENT', 'CREDIT_TERM',\n",
      "       'DAYS_EMPLOYED_PERCENT'],\n",
      "      dtype='object', length=243)\n",
      "Étape 7 réussie.\n",
      "Étape 8 réussie.\n",
      "Étape 9 réussie.\n",
      "Étape 10 réussie.\n",
      "Étape 11 réussie.\n",
      "Étape 12 réussie.\n",
      "Étape 13 réussie.\n"
     ]
    }
   ],
   "source": [
    "# Prépare la requête pour qu'elle soit conforme au modèle\n",
    "# ONE HOT ENCODING\n",
    "data = pd.get_dummies(data)\n",
    "print(\"Étape 3 réussie.\")\n",
    "\n",
    "# VALEURS ABERRANTES\n",
    "# Create an anomalous flag column\n",
    "data['DAYS_EMPLOYED_ANOM'] = data[\"DAYS_EMPLOYED\"] == 365243\n",
    "# Replace the anomalous values with nan\n",
    "data['DAYS_EMPLOYED'].replace({365243: np.nan}, inplace=True)\n",
    "print(\"Étape 4 réussie.\")\n",
    "\n",
    "# Traitement des valeurs négatives\n",
    "data['DAYS_BIRTH'] = abs(data['DAYS_BIRTH'])\n",
    "print(\"Étape 5 réussie.\")\n",
    "\n",
    "# CREATION DE VARIABLES\n",
    "# CREDIT_INCOME_PERCENT: the percentage of the credit amount relative to a client's income\n",
    "# ANNUITY_INCOME_PERCENT: the percentage of the loan annuity relative to a client's income\n",
    "# CREDIT_TERM: the length of the payment in months (since the annuity is the monthly amount due\n",
    "# DAYS_EMPLOYED_PERCENT: the percentage of the days employed relative to the client's age\n",
    "\n",
    "data['CREDIT_INCOME_PERCENT'] = data['AMT_CREDIT'] / data['AMT_INCOME_TOTAL']\n",
    "data['ANNUITY_INCOME_PERCENT'] = data['AMT_ANNUITY'] / data['AMT_INCOME_TOTAL']\n",
    "data['CREDIT_TERM'] = data['AMT_ANNUITY'] / data['AMT_CREDIT']\n",
    "data['DAYS_EMPLOYED_PERCENT'] = data['DAYS_EMPLOYED'] / data['DAYS_BIRTH']\n",
    "print(\"Étape 6 réussie.\")\n",
    "\n",
    "# Récupère les colonnes attendues par le modèle\n",
    "colonnes_attendues = colonnes_model\n",
    "print(colonnes_attendues)\n",
    "print(\"Étape 7 réussie.\")\n",
    "\n",
    "# Identify the columns that are missing from the received dataframe\n",
    "missing_columns = set(colonnes_attendues) - set(data.columns)\n",
    "print(\"Étape 8 réussie.\")\n",
    "\n",
    "# Add the missing columns to the received dataframe with a default value\n",
    "for col in missing_columns:\n",
    "    data[col] = 0\n",
    "print(\"Étape 9 réussie.\")\n",
    "\n",
    "# Reorder the columns to match the order of the expected columns\n",
    "data = data[colonnes_attendues]\n",
    "data = data.reindex(columns=colonnes_attendues)\n",
    "print(\"Étape 10 réussie.\")\n",
    "\n",
    "# Transform the data using the imputer and scaler\n",
    "data = data[imputer.feature_names_in_]\n",
    "data = imputer.transform(data)\n",
    "print(\"Étape 11 réussie.\")\n",
    "data = scaler.transform(data)\n",
    "print(\"Étape 12 réussie.\")\n",
    "\n",
    "# Make a prediction using the model\n",
    "prediction = model.predict(data)\n",
    "prediction_proba = model.predict_proba(data)\n",
    "print(\"Étape 13 réussie.\")"
   ],
   "metadata": {
    "collapsed": false,
    "pycharm": {
     "name": "#%%\n"
    }
   }
  },
  {
   "cell_type": "code",
   "execution_count": 14,
   "outputs": [
    {
     "data": {
      "text/plain": "array([[0.56948066, 0.43051937],\n       [0.8947431 , 0.10525689],\n       [0.7770156 , 0.22298437],\n       ...,\n       [0.785899  , 0.21410102],\n       [0.64967835, 0.35032165],\n       [0.9940809 , 0.00591907]], dtype=float32)"
     },
     "execution_count": 14,
     "metadata": {},
     "output_type": "execute_result"
    }
   ],
   "source": [
    "prediction_proba"
   ],
   "metadata": {
    "collapsed": false,
    "pycharm": {
     "name": "#%%\n"
    }
   }
  },
  {
   "cell_type": "code",
   "execution_count": 16,
   "outputs": [],
   "source": [
    "results = pd.DataFrame(prediction_proba, columns=[\"Prediction : 0\", \"Prediction : 1\"])"
   ],
   "metadata": {
    "collapsed": false,
    "pycharm": {
     "name": "#%%\n"
    }
   }
  },
  {
   "cell_type": "code",
   "execution_count": 30,
   "outputs": [],
   "source": [
    "df = pd.concat([df, results], axis=1)"
   ],
   "metadata": {
    "collapsed": false,
    "pycharm": {
     "name": "#%%\n"
    }
   }
  },
  {
   "cell_type": "code",
   "execution_count": 31,
   "outputs": [
    {
     "data": {
      "text/plain": "   SK_ID_CURR  TARGET NAME_CONTRACT_TYPE CODE_GENDER FLAG_OWN_CAR  \\\n0      141617       0         Cash loans           F            N   \n1      263512       0         Cash loans           M            N   \n2      397087       0    Revolving loans           F            Y   \n3      316730       1         Cash loans           F            N   \n4      441436       0         Cash loans           F            N   \n\n  FLAG_OWN_REALTY  CNT_CHILDREN  AMT_INCOME_TOTAL  AMT_CREDIT  AMT_ANNUITY  \\\n0               Y             0          135000.0    808650.0      23773.5   \n1               Y             0          135000.0    254700.0      14751.0   \n2               Y             0          234000.0    720000.0      36000.0   \n3               N             2           67500.0    545040.0      25407.0   \n4               Y             1          225000.0    817560.0      29493.0   \n\n   ...  FLAG_DOCUMENT_20 FLAG_DOCUMENT_21 AMT_REQ_CREDIT_BUREAU_HOUR  \\\n0  ...                 0                0                        NaN   \n1  ...                 0                0                        0.0   \n2  ...                 0                0                        0.0   \n3  ...                 0                0                        NaN   \n4  ...                 0                0                        0.0   \n\n  AMT_REQ_CREDIT_BUREAU_DAY AMT_REQ_CREDIT_BUREAU_WEEK  \\\n0                       NaN                        NaN   \n1                       0.0                        0.0   \n2                       0.0                        0.0   \n3                       NaN                        NaN   \n4                       1.0                        1.0   \n\n  AMT_REQ_CREDIT_BUREAU_MON  AMT_REQ_CREDIT_BUREAU_QRT  \\\n0                       NaN                        NaN   \n1                       2.0                        0.0   \n2                       0.0                        2.0   \n3                       NaN                        NaN   \n4                       0.0                        0.0   \n\n   AMT_REQ_CREDIT_BUREAU_YEAR  Prediction : 0  Prediction : 1  \n0                         NaN        0.569481        0.430519  \n1                         2.0        0.894743        0.105257  \n2                         0.0        0.777016        0.222984  \n3                         NaN        0.078817        0.921183  \n4                         0.0        0.897290        0.102710  \n\n[5 rows x 124 columns]",
      "text/html": "<div>\n<style scoped>\n    .dataframe tbody tr th:only-of-type {\n        vertical-align: middle;\n    }\n\n    .dataframe tbody tr th {\n        vertical-align: top;\n    }\n\n    .dataframe thead th {\n        text-align: right;\n    }\n</style>\n<table border=\"1\" class=\"dataframe\">\n  <thead>\n    <tr style=\"text-align: right;\">\n      <th></th>\n      <th>SK_ID_CURR</th>\n      <th>TARGET</th>\n      <th>NAME_CONTRACT_TYPE</th>\n      <th>CODE_GENDER</th>\n      <th>FLAG_OWN_CAR</th>\n      <th>FLAG_OWN_REALTY</th>\n      <th>CNT_CHILDREN</th>\n      <th>AMT_INCOME_TOTAL</th>\n      <th>AMT_CREDIT</th>\n      <th>AMT_ANNUITY</th>\n      <th>...</th>\n      <th>FLAG_DOCUMENT_20</th>\n      <th>FLAG_DOCUMENT_21</th>\n      <th>AMT_REQ_CREDIT_BUREAU_HOUR</th>\n      <th>AMT_REQ_CREDIT_BUREAU_DAY</th>\n      <th>AMT_REQ_CREDIT_BUREAU_WEEK</th>\n      <th>AMT_REQ_CREDIT_BUREAU_MON</th>\n      <th>AMT_REQ_CREDIT_BUREAU_QRT</th>\n      <th>AMT_REQ_CREDIT_BUREAU_YEAR</th>\n      <th>Prediction : 0</th>\n      <th>Prediction : 1</th>\n    </tr>\n  </thead>\n  <tbody>\n    <tr>\n      <th>0</th>\n      <td>141617</td>\n      <td>0</td>\n      <td>Cash loans</td>\n      <td>F</td>\n      <td>N</td>\n      <td>Y</td>\n      <td>0</td>\n      <td>135000.0</td>\n      <td>808650.0</td>\n      <td>23773.5</td>\n      <td>...</td>\n      <td>0</td>\n      <td>0</td>\n      <td>NaN</td>\n      <td>NaN</td>\n      <td>NaN</td>\n      <td>NaN</td>\n      <td>NaN</td>\n      <td>NaN</td>\n      <td>0.569481</td>\n      <td>0.430519</td>\n    </tr>\n    <tr>\n      <th>1</th>\n      <td>263512</td>\n      <td>0</td>\n      <td>Cash loans</td>\n      <td>M</td>\n      <td>N</td>\n      <td>Y</td>\n      <td>0</td>\n      <td>135000.0</td>\n      <td>254700.0</td>\n      <td>14751.0</td>\n      <td>...</td>\n      <td>0</td>\n      <td>0</td>\n      <td>0.0</td>\n      <td>0.0</td>\n      <td>0.0</td>\n      <td>2.0</td>\n      <td>0.0</td>\n      <td>2.0</td>\n      <td>0.894743</td>\n      <td>0.105257</td>\n    </tr>\n    <tr>\n      <th>2</th>\n      <td>397087</td>\n      <td>0</td>\n      <td>Revolving loans</td>\n      <td>F</td>\n      <td>Y</td>\n      <td>Y</td>\n      <td>0</td>\n      <td>234000.0</td>\n      <td>720000.0</td>\n      <td>36000.0</td>\n      <td>...</td>\n      <td>0</td>\n      <td>0</td>\n      <td>0.0</td>\n      <td>0.0</td>\n      <td>0.0</td>\n      <td>0.0</td>\n      <td>2.0</td>\n      <td>0.0</td>\n      <td>0.777016</td>\n      <td>0.222984</td>\n    </tr>\n    <tr>\n      <th>3</th>\n      <td>316730</td>\n      <td>1</td>\n      <td>Cash loans</td>\n      <td>F</td>\n      <td>N</td>\n      <td>N</td>\n      <td>2</td>\n      <td>67500.0</td>\n      <td>545040.0</td>\n      <td>25407.0</td>\n      <td>...</td>\n      <td>0</td>\n      <td>0</td>\n      <td>NaN</td>\n      <td>NaN</td>\n      <td>NaN</td>\n      <td>NaN</td>\n      <td>NaN</td>\n      <td>NaN</td>\n      <td>0.078817</td>\n      <td>0.921183</td>\n    </tr>\n    <tr>\n      <th>4</th>\n      <td>441436</td>\n      <td>0</td>\n      <td>Cash loans</td>\n      <td>F</td>\n      <td>N</td>\n      <td>Y</td>\n      <td>1</td>\n      <td>225000.0</td>\n      <td>817560.0</td>\n      <td>29493.0</td>\n      <td>...</td>\n      <td>0</td>\n      <td>0</td>\n      <td>0.0</td>\n      <td>1.0</td>\n      <td>1.0</td>\n      <td>0.0</td>\n      <td>0.0</td>\n      <td>0.0</td>\n      <td>0.897290</td>\n      <td>0.102710</td>\n    </tr>\n  </tbody>\n</table>\n<p>5 rows × 124 columns</p>\n</div>"
     },
     "execution_count": 31,
     "metadata": {},
     "output_type": "execute_result"
    }
   ],
   "source": [
    "df.head()"
   ],
   "metadata": {
    "collapsed": false,
    "pycharm": {
     "name": "#%%\n"
    }
   }
  },
  {
   "cell_type": "code",
   "execution_count": 34,
   "outputs": [
    {
     "data": {
      "text/plain": "(184504, 124)"
     },
     "execution_count": 34,
     "metadata": {},
     "output_type": "execute_result"
    }
   ],
   "source": [
    "df.shape"
   ],
   "metadata": {
    "collapsed": false,
    "pycharm": {
     "name": "#%%\n"
    }
   }
  },
  {
   "cell_type": "code",
   "execution_count": 33,
   "outputs": [],
   "source": [
    "df = df[df[\"CODE_GENDER\"] != \"XNA\"]"
   ],
   "metadata": {
    "collapsed": false,
    "pycharm": {
     "name": "#%%\n"
    }
   }
  },
  {
   "cell_type": "code",
   "execution_count": 35,
   "outputs": [],
   "source": [
    "df.to_csv(\"app_train_dashboard_with_prediction\", index=False)"
   ],
   "metadata": {
    "collapsed": false,
    "pycharm": {
     "name": "#%%\n"
    }
   }
  },
  {
   "cell_type": "code",
   "execution_count": 36,
   "outputs": [
    {
     "name": "stderr",
     "output_type": "stream",
     "text": [
      "C:\\Users\\tothm\\AppData\\Local\\Temp\\ipykernel_14656\\1448892206.py:1: FutureWarning: Indexing with multiple keys (implicitly converted to a tuple of keys) will be deprecated, use a list instead.\n",
      "  df.groupby(by=\"CODE_GENDER\")[\"Prediction : 0\", \"Prediction : 1\"].mean()\n"
     ]
    },
    {
     "data": {
      "text/plain": "             Prediction : 0  Prediction : 1\nCODE_GENDER                                \nF                  0.631791        0.368209\nM                  0.513180        0.486820",
      "text/html": "<div>\n<style scoped>\n    .dataframe tbody tr th:only-of-type {\n        vertical-align: middle;\n    }\n\n    .dataframe tbody tr th {\n        vertical-align: top;\n    }\n\n    .dataframe thead th {\n        text-align: right;\n    }\n</style>\n<table border=\"1\" class=\"dataframe\">\n  <thead>\n    <tr style=\"text-align: right;\">\n      <th></th>\n      <th>Prediction : 0</th>\n      <th>Prediction : 1</th>\n    </tr>\n    <tr>\n      <th>CODE_GENDER</th>\n      <th></th>\n      <th></th>\n    </tr>\n  </thead>\n  <tbody>\n    <tr>\n      <th>F</th>\n      <td>0.631791</td>\n      <td>0.368209</td>\n    </tr>\n    <tr>\n      <th>M</th>\n      <td>0.513180</td>\n      <td>0.486820</td>\n    </tr>\n  </tbody>\n</table>\n</div>"
     },
     "execution_count": 36,
     "metadata": {},
     "output_type": "execute_result"
    }
   ],
   "source": [
    "df.groupby(by=\"CODE_GENDER\")[\"Prediction : 0\", \"Prediction : 1\"].mean()"
   ],
   "metadata": {
    "collapsed": false,
    "pycharm": {
     "name": "#%%\n"
    }
   }
  },
  {
   "cell_type": "code",
   "execution_count": null,
   "outputs": [],
   "source": [],
   "metadata": {
    "collapsed": false,
    "pycharm": {
     "name": "#%%\n"
    }
   }
  }
 ],
 "metadata": {
  "kernelspec": {
   "display_name": "Python 3",
   "language": "python",
   "name": "python3"
  },
  "language_info": {
   "codemirror_mode": {
    "name": "ipython",
    "version": 2
   },
   "file_extension": ".py",
   "mimetype": "text/x-python",
   "name": "python",
   "nbconvert_exporter": "python",
   "pygments_lexer": "ipython2",
   "version": "2.7.6"
  }
 },
 "nbformat": 4,
 "nbformat_minor": 0
}